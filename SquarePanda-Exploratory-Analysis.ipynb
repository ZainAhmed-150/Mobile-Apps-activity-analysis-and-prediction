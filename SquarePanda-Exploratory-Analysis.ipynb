{
 "cells": [
  {
   "cell_type": "markdown",
   "metadata": {},
   "source": [
    "#                Square Panda Game Activity Exploratory Analysis"
   ]
  },
  {
   "cell_type": "code",
   "execution_count": 1,
   "metadata": {
    "collapsed": false
   },
   "outputs": [
    {
     "name": "stderr",
     "output_type": "stream",
     "text": [
      "\n",
      "Bad key \"patch.force_edgecolor\" on line 33 in\n",
      "/home/miti/.local/lib/python2.7/site-packages/matplotlib/mpl-data/stylelib/_classic_test.mplstyle.\n",
      "You probably need to get an updated matplotlibrc file from\n",
      "http://github.com/matplotlib/matplotlib/blob/master/matplotlibrc.template\n",
      "or from the matplotlib source distribution\n",
      "\n",
      "Bad key \"lines.dashed_pattern\" on line 18 in\n",
      "/home/miti/.local/lib/python2.7/site-packages/matplotlib/mpl-data/stylelib/_classic_test.mplstyle.\n",
      "You probably need to get an updated matplotlibrc file from\n",
      "http://github.com/matplotlib/matplotlib/blob/master/matplotlibrc.template\n",
      "or from the matplotlib source distribution\n",
      "\n",
      "Bad key \"boxplot.meanprops.markeredgecolor\" on line 369 in\n",
      "/home/miti/.local/lib/python2.7/site-packages/matplotlib/mpl-data/stylelib/_classic_test.mplstyle.\n",
      "You probably need to get an updated matplotlibrc file from\n",
      "http://github.com/matplotlib/matplotlib/blob/master/matplotlibrc.template\n",
      "or from the matplotlib source distribution\n",
      "\n",
      "Bad key \"date.autoformatter.second\" on line 235 in\n",
      "/home/miti/.local/lib/python2.7/site-packages/matplotlib/mpl-data/stylelib/_classic_test.mplstyle.\n",
      "You probably need to get an updated matplotlibrc file from\n",
      "http://github.com/matplotlib/matplotlib/blob/master/matplotlibrc.template\n",
      "or from the matplotlib source distribution\n",
      "\n",
      "Bad key \"ytick.major.right\" on line 271 in\n",
      "/home/miti/.local/lib/python2.7/site-packages/matplotlib/mpl-data/stylelib/_classic_test.mplstyle.\n",
      "You probably need to get an updated matplotlibrc file from\n",
      "http://github.com/matplotlib/matplotlib/blob/master/matplotlibrc.template\n",
      "or from the matplotlib source distribution\n",
      "\n",
      "Bad key \"date.autoformatter.month\" on line 231 in\n",
      "/home/miti/.local/lib/python2.7/site-packages/matplotlib/mpl-data/stylelib/_classic_test.mplstyle.\n",
      "You probably need to get an updated matplotlibrc file from\n",
      "http://github.com/matplotlib/matplotlib/blob/master/matplotlibrc.template\n",
      "or from the matplotlib source distribution\n",
      "\n",
      "Bad key \"scatter.marker\" on line 345 in\n",
      "/home/miti/.local/lib/python2.7/site-packages/matplotlib/mpl-data/stylelib/_classic_test.mplstyle.\n",
      "You probably need to get an updated matplotlibrc file from\n",
      "http://github.com/matplotlib/matplotlib/blob/master/matplotlibrc.template\n",
      "or from the matplotlib source distribution\n",
      "\n",
      "Bad key \"ytick.minor.right\" on line 273 in\n",
      "/home/miti/.local/lib/python2.7/site-packages/matplotlib/mpl-data/stylelib/_classic_test.mplstyle.\n",
      "You probably need to get an updated matplotlibrc file from\n",
      "http://github.com/matplotlib/matplotlib/blob/master/matplotlibrc.template\n",
      "or from the matplotlib source distribution\n",
      "\n",
      "Bad key \"ytick.major.left\" on line 270 in\n",
      "/home/miti/.local/lib/python2.7/site-packages/matplotlib/mpl-data/stylelib/_classic_test.mplstyle.\n",
      "You probably need to get an updated matplotlibrc file from\n",
      "http://github.com/matplotlib/matplotlib/blob/master/matplotlibrc.template\n",
      "or from the matplotlib source distribution\n",
      "\n",
      "Bad key \"ytick.left\" on line 258 in\n",
      "/home/miti/.local/lib/python2.7/site-packages/matplotlib/mpl-data/stylelib/_classic_test.mplstyle.\n",
      "You probably need to get an updated matplotlibrc file from\n",
      "http://github.com/matplotlib/matplotlib/blob/master/matplotlibrc.template\n",
      "or from the matplotlib source distribution\n",
      "\n",
      "Bad key \"xtick.minor.bottom\" on line 256 in\n",
      "/home/miti/.local/lib/python2.7/site-packages/matplotlib/mpl-data/stylelib/_classic_test.mplstyle.\n",
      "You probably need to get an updated matplotlibrc file from\n",
      "http://github.com/matplotlib/matplotlib/blob/master/matplotlibrc.template\n",
      "or from the matplotlib source distribution\n",
      "\n",
      "Bad key \"axes.autolimit_mode\" on line 220 in\n",
      "/home/miti/.local/lib/python2.7/site-packages/matplotlib/mpl-data/stylelib/_classic_test.mplstyle.\n",
      "You probably need to get an updated matplotlibrc file from\n",
      "http://github.com/matplotlib/matplotlib/blob/master/matplotlibrc.template\n",
      "or from the matplotlib source distribution\n",
      "\n",
      "Bad key \"hatch.color\" on line 37 in\n",
      "/home/miti/.local/lib/python2.7/site-packages/matplotlib/mpl-data/stylelib/_classic_test.mplstyle.\n",
      "You probably need to get an updated matplotlibrc file from\n",
      "http://github.com/matplotlib/matplotlib/blob/master/matplotlibrc.template\n",
      "or from the matplotlib source distribution\n",
      "\n",
      "Bad key \"boxplot.meanprops.marker\" on line 367 in\n",
      "/home/miti/.local/lib/python2.7/site-packages/matplotlib/mpl-data/stylelib/_classic_test.mplstyle.\n",
      "You probably need to get an updated matplotlibrc file from\n",
      "http://github.com/matplotlib/matplotlib/blob/master/matplotlibrc.template\n",
      "or from the matplotlib source distribution\n",
      "\n",
      "Bad key \"date.autoformatter.minute\" on line 234 in\n",
      "/home/miti/.local/lib/python2.7/site-packages/matplotlib/mpl-data/stylelib/_classic_test.mplstyle.\n",
      "You probably need to get an updated matplotlibrc file from\n",
      "http://github.com/matplotlib/matplotlib/blob/master/matplotlibrc.template\n",
      "or from the matplotlib source distribution\n",
      "\n",
      "Bad key \"xtick.major.top\" on line 253 in\n",
      "/home/miti/.local/lib/python2.7/site-packages/matplotlib/mpl-data/stylelib/_classic_test.mplstyle.\n",
      "You probably need to get an updated matplotlibrc file from\n",
      "http://github.com/matplotlib/matplotlib/blob/master/matplotlibrc.template\n",
      "or from the matplotlib source distribution\n",
      "\n",
      "Bad key \"date.autoformatter.day\" on line 232 in\n",
      "/home/miti/.local/lib/python2.7/site-packages/matplotlib/mpl-data/stylelib/_classic_test.mplstyle.\n",
      "You probably need to get an updated matplotlibrc file from\n",
      "http://github.com/matplotlib/matplotlib/blob/master/matplotlibrc.template\n",
      "or from the matplotlib source distribution\n",
      "\n",
      "Bad key \"ytick.right\" on line 259 in\n",
      "/home/miti/.local/lib/python2.7/site-packages/matplotlib/mpl-data/stylelib/_classic_test.mplstyle.\n",
      "You probably need to get an updated matplotlibrc file from\n",
      "http://github.com/matplotlib/matplotlib/blob/master/matplotlibrc.template\n",
      "or from the matplotlib source distribution\n",
      "\n",
      "Bad key \"xtick.bottom\" on line 242 in\n",
      "/home/miti/.local/lib/python2.7/site-packages/matplotlib/mpl-data/stylelib/_classic_test.mplstyle.\n",
      "You probably need to get an updated matplotlibrc file from\n",
      "http://github.com/matplotlib/matplotlib/blob/master/matplotlibrc.template\n",
      "or from the matplotlib source distribution\n",
      "\n",
      "Bad key \"date.autoformatter.microsecond\" on line 236 in\n",
      "/home/miti/.local/lib/python2.7/site-packages/matplotlib/mpl-data/stylelib/_classic_test.mplstyle.\n",
      "You probably need to get an updated matplotlibrc file from\n",
      "http://github.com/matplotlib/matplotlib/blob/master/matplotlibrc.template\n",
      "or from the matplotlib source distribution\n",
      "\n",
      "Bad key \"hist.bins\" on line 40 in\n",
      "/home/miti/.local/lib/python2.7/site-packages/matplotlib/mpl-data/stylelib/_classic_test.mplstyle.\n",
      "You probably need to get an updated matplotlibrc file from\n",
      "http://github.com/matplotlib/matplotlib/blob/master/matplotlibrc.template\n",
      "or from the matplotlib source distribution\n",
      "\n",
      "Bad key \"lines.scale_dashes\" on line 21 in\n",
      "/home/miti/.local/lib/python2.7/site-packages/matplotlib/mpl-data/stylelib/_classic_test.mplstyle.\n",
      "You probably need to get an updated matplotlibrc file from\n",
      "http://github.com/matplotlib/matplotlib/blob/master/matplotlibrc.template\n",
      "or from the matplotlib source distribution\n",
      "\n",
      "Bad key \"axes.titlepad\" on line 184 in\n",
      "/home/miti/.local/lib/python2.7/site-packages/matplotlib/mpl-data/stylelib/_classic_test.mplstyle.\n",
      "You probably need to get an updated matplotlibrc file from\n",
      "http://github.com/matplotlib/matplotlib/blob/master/matplotlibrc.template\n",
      "or from the matplotlib source distribution\n",
      "\n",
      "Bad key \"_internal.classic_mode\" on line 526 in\n",
      "/home/miti/.local/lib/python2.7/site-packages/matplotlib/mpl-data/stylelib/_classic_test.mplstyle.\n",
      "You probably need to get an updated matplotlibrc file from\n",
      "http://github.com/matplotlib/matplotlib/blob/master/matplotlibrc.template\n",
      "or from the matplotlib source distribution\n",
      "\n",
      "Bad key \"date.autoformatter.hour\" on line 233 in\n",
      "/home/miti/.local/lib/python2.7/site-packages/matplotlib/mpl-data/stylelib/_classic_test.mplstyle.\n",
      "You probably need to get an updated matplotlibrc file from\n",
      "http://github.com/matplotlib/matplotlib/blob/master/matplotlibrc.template\n",
      "or from the matplotlib source distribution\n",
      "\n",
      "Bad key \"boxplot.meanprops.markerfacecolor\" on line 368 in\n",
      "/home/miti/.local/lib/python2.7/site-packages/matplotlib/mpl-data/stylelib/_classic_test.mplstyle.\n",
      "You probably need to get an updated matplotlibrc file from\n",
      "http://github.com/matplotlib/matplotlib/blob/master/matplotlibrc.template\n",
      "or from the matplotlib source distribution\n",
      "\n",
      "Bad key \"date.autoformatter.year\" on line 230 in\n",
      "/home/miti/.local/lib/python2.7/site-packages/matplotlib/mpl-data/stylelib/_classic_test.mplstyle.\n",
      "You probably need to get an updated matplotlibrc file from\n",
      "http://github.com/matplotlib/matplotlib/blob/master/matplotlibrc.template\n",
      "or from the matplotlib source distribution\n",
      "/home/miti/.local/lib/python2.7/site-packages/matplotlib/__init__.py:1076: UserWarning: Bad val \"auto\" on line #360\n",
      "\t\"boxplot.flierprops.markerfacecolor: auto\n",
      "\"\n",
      "\tin file \"/home/miti/.local/lib/python2.7/site-packages/matplotlib/mpl-data/stylelib/_classic_test.mplstyle\"\n",
      "\tKey boxplot.flierprops.markerfacecolor: auto does not look like a color arg\n",
      "  (val, error_details, msg))\n",
      "\n",
      "Bad key \"lines.dotted_pattern\" on line 20 in\n",
      "/home/miti/.local/lib/python2.7/site-packages/matplotlib/mpl-data/stylelib/_classic_test.mplstyle.\n",
      "You probably need to get an updated matplotlibrc file from\n",
      "http://github.com/matplotlib/matplotlib/blob/master/matplotlibrc.template\n",
      "or from the matplotlib source distribution\n",
      "\n",
      "Bad key \"axes.formatter.offset_threshold\" on line 207 in\n",
      "/home/miti/.local/lib/python2.7/site-packages/matplotlib/mpl-data/stylelib/_classic_test.mplstyle.\n",
      "You probably need to get an updated matplotlibrc file from\n",
      "http://github.com/matplotlib/matplotlib/blob/master/matplotlibrc.template\n",
      "or from the matplotlib source distribution\n",
      "\n",
      "Bad key \"xtick.minor.top\" on line 255 in\n",
      "/home/miti/.local/lib/python2.7/site-packages/matplotlib/mpl-data/stylelib/_classic_test.mplstyle.\n",
      "You probably need to get an updated matplotlibrc file from\n",
      "http://github.com/matplotlib/matplotlib/blob/master/matplotlibrc.template\n",
      "or from the matplotlib source distribution\n",
      "\n",
      "Bad key \"ytick.minor.left\" on line 272 in\n",
      "/home/miti/.local/lib/python2.7/site-packages/matplotlib/mpl-data/stylelib/_classic_test.mplstyle.\n",
      "You probably need to get an updated matplotlibrc file from\n",
      "http://github.com/matplotlib/matplotlib/blob/master/matplotlibrc.template\n",
      "or from the matplotlib source distribution\n",
      "\n",
      "Bad key \"lines.dashdot_pattern\" on line 19 in\n",
      "/home/miti/.local/lib/python2.7/site-packages/matplotlib/mpl-data/stylelib/_classic_test.mplstyle.\n",
      "You probably need to get an updated matplotlibrc file from\n",
      "http://github.com/matplotlib/matplotlib/blob/master/matplotlibrc.template\n",
      "or from the matplotlib source distribution\n",
      "\n",
      "Bad key \"xtick.major.bottom\" on line 254 in\n",
      "/home/miti/.local/lib/python2.7/site-packages/matplotlib/mpl-data/stylelib/_classic_test.mplstyle.\n",
      "You probably need to get an updated matplotlibrc file from\n",
      "http://github.com/matplotlib/matplotlib/blob/master/matplotlibrc.template\n",
      "or from the matplotlib source distribution\n",
      "\n",
      "Bad key \"boxplot.meanprops.markersize\" on line 370 in\n",
      "/home/miti/.local/lib/python2.7/site-packages/matplotlib/mpl-data/stylelib/_classic_test.mplstyle.\n",
      "You probably need to get an updated matplotlibrc file from\n",
      "http://github.com/matplotlib/matplotlib/blob/master/matplotlibrc.template\n",
      "or from the matplotlib source distribution\n",
      "\n",
      "Bad key \"hatch.linewidth\" on line 38 in\n",
      "/home/miti/.local/lib/python2.7/site-packages/matplotlib/mpl-data/stylelib/_classic_test.mplstyle.\n",
      "You probably need to get an updated matplotlibrc file from\n",
      "http://github.com/matplotlib/matplotlib/blob/master/matplotlibrc.template\n",
      "or from the matplotlib source distribution\n",
      "\n",
      "Bad key \"xtick.top\" on line 241 in\n",
      "/home/miti/.local/lib/python2.7/site-packages/matplotlib/mpl-data/stylelib/_classic_test.mplstyle.\n",
      "You probably need to get an updated matplotlibrc file from\n",
      "http://github.com/matplotlib/matplotlib/blob/master/matplotlibrc.template\n",
      "or from the matplotlib source distribution\n",
      "/home/miti/.local/lib/python2.7/site-packages/IPython/core/interactiveshell.py:2717: DtypeWarning: Columns (14,17) have mixed types. Specify dtype option on import or set low_memory=False.\n",
      "  interactivity=interactivity, compiler=compiler, result=result)\n"
     ]
    }
   ],
   "source": [
    "import utils\n",
    "import pandas as pd\n",
    "import datetime as dt\n",
    "import matplotlib.pyplot as plt\n",
    "from sklearn import tree, model_selection\n",
    "\n",
    "df = pd.read_csv(\"DataTest1..csv\", error_bad_lines=False)\n"
   ]
  },
  {
   "cell_type": "markdown",
   "metadata": {},
   "source": [
    "### Cleaning the data: \n",
    "### 1) Filter the activities where the words played are not nonsense words.\n",
    "### 2) Remove the activities which have Do Not Consider flag as 1"
   ]
  },
  {
   "cell_type": "code",
   "execution_count": 17,
   "metadata": {
    "collapsed": false
   },
   "outputs": [
    {
     "data": {
      "text/plain": [
       "(309625, 18)"
      ]
     },
     "execution_count": 17,
     "metadata": {},
     "output_type": "execute_result"
    }
   ],
   "source": [
    "df.shape"
   ]
  },
  {
   "cell_type": "code",
   "execution_count": 2,
   "metadata": {
    "collapsed": false,
    "scrolled": true
   },
   "outputs": [],
   "source": [
    "df = df[df['nonsensewords']==0]"
   ]
  },
  {
   "cell_type": "code",
   "execution_count": 3,
   "metadata": {
    "collapsed": false
   },
   "outputs": [],
   "source": [
    "df = df[df['dnc']==0]"
   ]
  },
  {
   "cell_type": "code",
   "execution_count": 4,
   "metadata": {
    "collapsed": false
   },
   "outputs": [
    {
     "data": {
      "text/plain": [
       "(119189, 18)"
      ]
     },
     "execution_count": 4,
     "metadata": {},
     "output_type": "execute_result"
    }
   ],
   "source": [
    "df.shape"
   ]
  },
  {
   "cell_type": "markdown",
   "metadata": {},
   "source": [
    "### Note: We reduced the size of the data to half"
   ]
  },
  {
   "cell_type": "markdown",
   "metadata": {},
   "source": [
    "## Let's calculate Age from the Date of Birth"
   ]
  },
  {
   "cell_type": "markdown",
   "metadata": {},
   "source": [
    "### Age = (Current Year - Birth Year)\n",
    "### Let's calculate Current Year and extract Birth Year from Dob "
   ]
  },
  {
   "cell_type": "code",
   "execution_count": 5,
   "metadata": {
    "collapsed": false
   },
   "outputs": [],
   "source": [
    "now = dt.date.today().year"
   ]
  },
  {
   "cell_type": "markdown",
   "metadata": {},
   "source": [
    "### Fill 'null' values with a placeholder to allow calculations "
   ]
  },
  {
   "cell_type": "code",
   "execution_count": 6,
   "metadata": {
    "collapsed": false
   },
   "outputs": [],
   "source": [
    "df['dateofbirth'] = df.dateofbirth.replace('null','1/1/01 12:00 AM' )\n"
   ]
  },
  {
   "cell_type": "code",
   "execution_count": 7,
   "metadata": {
    "collapsed": false
   },
   "outputs": [],
   "source": [
    "df['duration'] = df['duration'].replace('null','0')\n",
    "df['duration'] = df['duration'].astype(int)\n",
    "\n"
   ]
  },
  {
   "cell_type": "code",
   "execution_count": 8,
   "metadata": {
    "collapsed": true
   },
   "outputs": [],
   "source": [
    "df['gender'] = df.gender.replace('O','Not Known')\n",
    "df['gender'] = df.gender.replace('null','Not Known')"
   ]
  },
  {
   "cell_type": "markdown",
   "metadata": {
    "collapsed": false
   },
   "source": [
    "### Convert dob to DateTime datatype to extract year from it"
   ]
  },
  {
   "cell_type": "code",
   "execution_count": 9,
   "metadata": {
    "collapsed": false
   },
   "outputs": [],
   "source": [
    "df['dateofbirth'] = pd.to_datetime(df['dateofbirth'] ,format='%m/%d/%y %H:%M AM',errors='coerce')"
   ]
  },
  {
   "cell_type": "code",
   "execution_count": 10,
   "metadata": {
    "collapsed": false
   },
   "outputs": [],
   "source": [
    "df['year']=df['dateofbirth'].dt.year"
   ]
  },
  {
   "cell_type": "code",
   "execution_count": 11,
   "metadata": {
    "collapsed": false
   },
   "outputs": [
    {
     "data": {
      "text/plain": [
       "65541     9\n",
       "65543     4\n",
       "65545     5\n",
       "65546    13\n",
       "65550     6\n",
       "Name: age, dtype: int64"
      ]
     },
     "execution_count": 11,
     "metadata": {},
     "output_type": "execute_result"
    }
   ],
   "source": [
    "df['age'] = now - df['year']\n",
    "df['age'].head()"
   ]
  },
  {
   "cell_type": "markdown",
   "metadata": {},
   "source": [
    "### Remove age anamolies from data"
   ]
  },
  {
   "cell_type": "code",
   "execution_count": 12,
   "metadata": {
    "collapsed": false
   },
   "outputs": [
    {
     "data": {
      "text/plain": [
       "(118275, 20)"
      ]
     },
     "execution_count": 12,
     "metadata": {},
     "output_type": "execute_result"
    }
   ],
   "source": [
    "df = df[df['age']>=0]\n",
    "df.shape"
   ]
  },
  {
   "cell_type": "markdown",
   "metadata": {
    "collapsed": false
   },
   "source": [
    "# Grouping by various fields "
   ]
  },
  {
   "cell_type": "code",
   "execution_count": 29,
   "metadata": {
    "collapsed": false
   },
   "outputs": [
    {
     "ename": "SyntaxError",
     "evalue": "invalid syntax (<ipython-input-29-df88c1694e53>, line 6)",
     "output_type": "error",
     "traceback": [
      "\u001b[0;36m  File \u001b[0;32m\"<ipython-input-29-df88c1694e53>\"\u001b[0;36m, line \u001b[0;32m6\u001b[0m\n\u001b[0;31m    df1.cumsum().plot(x='createdat',y='age')\u001b[0m\n\u001b[0m      ^\u001b[0m\n\u001b[0;31mSyntaxError\u001b[0m\u001b[0;31m:\u001b[0m invalid syntax\n"
     ]
    }
   ],
   "source": [
    "import matplotlib.pyplot as plt\n",
    "import matplotlib\n",
    "import numpy as np\n",
    "matplotlib.style.use('ggplot')\n",
    "df1 = df[df['createdat']\n",
    "df1.cumsum().plot(x='createdat',y='age')\n",
    "\n",
    "plt.show()"
   ]
  },
  {
   "cell_type": "code",
   "execution_count": 16,
   "metadata": {
    "collapsed": false
   },
   "outputs": [],
   "source": [
    "df['createdat']=pd.to_datetime(df['createdat'])"
   ]
  },
  {
   "cell_type": "code",
   "execution_count": 17,
   "metadata": {
    "collapsed": false
   },
   "outputs": [
    {
     "data": {
      "text/plain": [
       "<bound method Series.describe of 65541    2016-12-15 15:42:00\n",
       "65543    2016-12-20 13:23:00\n",
       "65545    2016-12-28 02:31:00\n",
       "65546    2016-12-08 15:05:00\n",
       "65550    2016-12-17 00:45:00\n",
       "65551    2016-12-28 20:32:00\n",
       "65552    2016-12-26 15:01:00\n",
       "65554    2016-12-26 18:01:00\n",
       "65556    2017-02-23 12:38:00\n",
       "65557    2017-02-23 14:48:00\n",
       "65559    2017-03-28 15:48:00\n",
       "65561    2017-02-17 02:35:00\n",
       "65563    2017-03-16 15:26:00\n",
       "65565    2017-03-16 17:36:00\n",
       "65566    2017-03-28 16:24:00\n",
       "65567    2017-03-28 17:45:00\n",
       "65568    2017-03-28 19:14:00\n",
       "65569    2017-03-28 23:42:00\n",
       "65570    2017-03-29 13:22:00\n",
       "65571    2017-03-29 15:31:00\n",
       "65572    2017-03-29 17:21:00\n",
       "65573    2017-03-29 19:43:00\n",
       "65574    2017-03-29 20:46:00\n",
       "65575    2017-03-30 00:26:00\n",
       "65576    2017-03-30 12:27:00\n",
       "65577    2017-02-27 02:23:00\n",
       "65579    2017-03-08 16:00:00\n",
       "65583    2017-01-09 21:52:00\n",
       "65586    2017-03-08 20:40:00\n",
       "65587    2017-03-09 00:57:00\n",
       "                 ...        \n",
       "309522   2016-12-29 14:52:00\n",
       "309526   2017-01-13 12:55:00\n",
       "309540   2017-01-28 03:16:00\n",
       "309542   2017-02-01 19:05:00\n",
       "309543   2017-01-31 22:51:00\n",
       "309549   2017-02-15 19:30:00\n",
       "309550   2017-02-07 18:52:00\n",
       "309551   2017-02-21 14:56:00\n",
       "309552   2017-02-24 01:02:00\n",
       "309554   2017-02-28 20:14:00\n",
       "309558   2017-03-03 13:58:00\n",
       "309566   2017-03-25 13:41:00\n",
       "309568   2017-03-29 18:04:00\n",
       "309569   2017-03-20 19:50:00\n",
       "309570   2017-04-07 20:32:00\n",
       "309571   2017-04-08 18:54:00\n",
       "309576   2017-05-02 14:49:00\n",
       "309585   2017-04-05 17:31:00\n",
       "309589   2017-06-05 13:15:00\n",
       "309591   2017-05-21 08:08:00\n",
       "309594   2017-04-20 18:43:00\n",
       "309595   2017-06-26 01:16:00\n",
       "309597   2017-06-06 12:50:00\n",
       "309598   2017-06-09 00:40:00\n",
       "309600   2017-06-14 15:08:00\n",
       "309608   2017-05-21 07:58:00\n",
       "309610   2017-05-27 15:26:00\n",
       "309615   2017-06-07 04:27:00\n",
       "309619   2017-06-24 19:17:00\n",
       "309621   2017-07-10 22:23:00\n",
       "Name: createdat, Length: 118275, dtype: datetime64[ns]>"
      ]
     },
     "execution_count": 17,
     "metadata": {},
     "output_type": "execute_result"
    }
   ],
   "source": [
    "df['createdat'].describe"
   ]
  },
  {
   "cell_type": "code",
   "execution_count": null,
   "metadata": {
    "collapsed": false
   },
   "outputs": [],
   "source": []
  },
  {
   "cell_type": "markdown",
   "metadata": {},
   "source": [
    "## Let's see the distribution of activities by Games"
   ]
  },
  {
   "cell_type": "code",
   "execution_count": 18,
   "metadata": {
    "collapsed": false
   },
   "outputs": [
    {
     "name": "stderr",
     "output_type": "stream",
     "text": [
      "/home/miti/.local/lib/python2.7/site-packages/pandas/plotting/_core.py:179: UserWarning: 'colors' is being deprecated. Please use 'color'instead of 'colors'\n",
      "  warnings.warn((\"'colors' is being deprecated. Please use 'color'\"\n"
     ]
    },
    {
     "data": {
      "image/png": "[encoded data removed]",
      "text/plain": [
       "<matplotlib.figure.Figure at 0x7ff7d91d9990>"
      ]
     },
     "metadata": {},
     "output_type": "display_data"
    }
   ],
   "source": [
    "colors = ['yellowgreen', 'gold', 'lightskyblue', 'lightcoral','red','green','blue','orange','white','brown']\n",
    "df['gamename'].value_counts().plot(kind='bar',stacked=True, title='Distribution of activites by Games',colors=['red'])\n",
    "plt.show()"
   ]
  },
  {
   "cell_type": "markdown",
   "metadata": {},
   "source": [
    "### This shows us that the maximum played game is   Bowling > Lagoon >  Space Cows> Farming "
   ]
  },
  {
   "cell_type": "markdown",
   "metadata": {
    "collapsed": true
   },
   "source": [
    "## Distribution of activities per Age"
   ]
  },
  {
   "cell_type": "code",
   "execution_count": 19,
   "metadata": {
    "collapsed": false
   },
   "outputs": [
    {
     "data": {
      "image/png": "[encoded data removed]",
      "text/plain": [
       "<matplotlib.figure.Figure at 0x7ff7e2d62c50>"
      ]
     },
     "metadata": {},
     "output_type": "display_data"
    }
   ],
   "source": [
    "colors = ['yellowgreen', 'gold', 'lightskyblue', 'lightcoral','red','green','blue','orange','white','brown']\n",
    "df['age'].value_counts().plot(kind='pie',title='Distribution of activites by Age',colors=colors)\n",
    "plt.show()"
   ]
  },
  {
   "cell_type": "markdown",
   "metadata": {},
   "source": [
    "### This shows that 50% of the age range of our players belong to is 4-6"
   ]
  },
  {
   "cell_type": "markdown",
   "metadata": {},
   "source": [
    "## Distribution of type of Word (Word/Letter)"
   ]
  },
  {
   "cell_type": "code",
   "execution_count": 20,
   "metadata": {
    "collapsed": false
   },
   "outputs": [
    {
     "data": {
      "image/png": "[encoded data removed]",
      "text/plain": [
       "<matplotlib.figure.Figure at 0x7ff8180b11d0>"
      ]
     },
     "metadata": {},
     "output_type": "display_data"
    }
   ],
   "source": [
    "colors = ['yellowgreen', 'gold', 'lightskyblue', 'lightcoral','red','green','blue','orange','white','brown']\n",
    "df['wordtype'].value_counts().plot(kind='pie',title='Distribution of activites by Word Type',colors=colors)\n",
    "plt.show()"
   ]
  },
  {
   "cell_type": "markdown",
   "metadata": {},
   "source": [
    "### This show that approximately more than 75% of activities played are for the wordtype as 'Word' and 25% as 'Letter'"
   ]
  },
  {
   "cell_type": "markdown",
   "metadata": {},
   "source": [
    "## Distribution of Activities by Gender"
   ]
  },
  {
   "cell_type": "code",
   "execution_count": 21,
   "metadata": {
    "collapsed": false
   },
   "outputs": [
    {
     "data": {
      "image/png": "[encoded data removed]",
      "text/plain": [
       "<matplotlib.figure.Figure at 0x7ff8180f38d0>"
      ]
     },
     "metadata": {},
     "output_type": "display_data"
    }
   ],
   "source": [
    "df['gender'].value_counts().plot(kind='pie',title='Distribution of activites by gender')\n",
    "plt.show()"
   ]
  },
  {
   "cell_type": "markdown",
   "metadata": {},
   "source": [
    "## Let's calculate average duration i.e. time for which each activity is carried out"
   ]
  },
  {
   "cell_type": "code",
   "execution_count": 22,
   "metadata": {
    "collapsed": false
   },
   "outputs": [
    {
     "name": "stdout",
     "output_type": "stream",
     "text": [
      "('Average Duration in seconds is:', 556.61003593320652)\n",
      "('Average Duration in minutes is:', 9.276833932220109)\n"
     ]
    }
   ],
   "source": [
    "Average_seconds = df['duration'].mean()\n",
    "Avergae_minutes = df['duration'].mean()/60\n",
    "print('Average Duration in seconds is:',Average_seconds)\n",
    "print('Average Duration in minutes is:',Avergae_minutes)"
   ]
  },
  {
   "cell_type": "markdown",
   "metadata": {},
   "source": [
    "### Hence the Average duration of each activity is 9.3827 minutes or 562.9675 seconds"
   ]
  },
  {
   "cell_type": "code",
   "execution_count": 23,
   "metadata": {
    "collapsed": false
   },
   "outputs": [
    {
     "name": "stdout",
     "output_type": "stream",
     "text": [
      "<class 'pandas.core.frame.DataFrame'>\n",
      "Int64Index: 118275 entries, 65541 to 309621\n",
      "Data columns (total 20 columns):\n",
      "id               118275 non-null object\n",
      "childid          118275 non-null float64\n",
      "endtime          118275 non-null object\n",
      "gamename         118275 non-null object\n",
      "gamescore        118275 non-null object\n",
      "nonsensewords    118275 non-null int64\n",
      "starttime        118275 non-null object\n",
      "userid           118275 non-null float64\n",
      "word             118266 non-null object\n",
      "wordtype         118275 non-null object\n",
      "createdat        118275 non-null datetime64[ns]\n",
      "end_ms_time      118275 non-null object\n",
      "start_ms_time    118275 non-null object\n",
      "platform         118275 non-null object\n",
      "dnc              118275 non-null object\n",
      "gender           118275 non-null object\n",
      "dateofbirth      118275 non-null datetime64[ns]\n",
      "duration         118275 non-null int64\n",
      "year             118275 non-null int64\n",
      "age              118275 non-null int64\n",
      "dtypes: datetime64[ns](2), float64(2), int64(4), object(12)\n",
      "memory usage: 23.9+ MB\n"
     ]
    }
   ],
   "source": [
    "df.info()"
   ]
  },
  {
   "cell_type": "code",
   "execution_count": 24,
   "metadata": {
    "collapsed": false
   },
   "outputs": [],
   "source": [
    "df['platform'] = df['platform'].replace('null','Not Known')"
   ]
  },
  {
   "cell_type": "code",
   "execution_count": null,
   "metadata": {
    "collapsed": false
   },
   "outputs": [],
   "source": []
  },
  {
   "cell_type": "code",
   "execution_count": 25,
   "metadata": {
    "collapsed": false
   },
   "outputs": [
    {
     "data": {
      "image/png": "[encoded data removed]",
      "text/plain": [
       "<matplotlib.figure.Figure at 0x7ff7d92aafd0>"
      ]
     },
     "metadata": {},
     "output_type": "display_data"
    }
   ],
   "source": [
    "df['platform'].value_counts().plot(kind='pie',title='Distribution of activites by platform',colors=colors)\n",
    "plt.show()"
   ]
  },
  {
   "cell_type": "markdown",
   "metadata": {},
   "source": [
    "### Hence we know maximum of our traffic is through iOS apps or is not known. Android Play Store is where we have a large scope to increase our customer base"
   ]
  },
  {
   "cell_type": "code",
   "execution_count": 26,
   "metadata": {
    "collapsed": false
   },
   "outputs": [],
   "source": [
    "df['gamescore'] = df['gamescore'].replace('null','0')"
   ]
  },
  {
   "cell_type": "code",
   "execution_count": 27,
   "metadata": {
    "collapsed": false
   },
   "outputs": [
    {
     "data": {
      "image/png": "[encoded data removed]",
      "text/plain": [
       "<matplotlib.figure.Figure at 0x7ff7d92b61d0>"
      ]
     },
     "metadata": {},
     "output_type": "display_data"
    }
   ],
   "source": [
    "df['gamescore'].value_counts().plot(kind='pie',title='Distribution of activites by game score')\n",
    "plt.show()"
   ]
  },
  {
   "cell_type": "code",
   "execution_count": 28,
   "metadata": {
    "collapsed": false
   },
   "outputs": [],
   "source": [
    "df['createdat'] = pd.to_datetime(df['createdat'])"
   ]
  },
  {
   "cell_type": "code",
   "execution_count": 29,
   "metadata": {
    "collapsed": false
   },
   "outputs": [
    {
     "data": {
      "image/png": "[encoded data removed]",
      "text/plain": [
       "<matplotlib.figure.Figure at 0x7ff7d9b48590>"
      ]
     },
     "metadata": {},
     "output_type": "display_data"
    }
   ],
   "source": [
    "df = df.sort_values('createdat', ascending=True)\n",
    "plt.plot(df['age'], df['duration'])\n",
    "plt.xticks(rotation='vertical')\n",
    "plt.show()"
   ]
  },
  {
   "cell_type": "markdown",
   "metadata": {},
   "source": [
    "## Sum of total duration of children with different ages depicts that maximum duration if for the children of age 5-15"
   ]
  },
  {
   "cell_type": "markdown",
   "metadata": {},
   "source": [
    "### Hence no data before 2016"
   ]
  },
  {
   "cell_type": "code",
   "execution_count": null,
   "metadata": {
    "collapsed": false
   },
   "outputs": [],
   "source": [
    "df['2016']"
   ]
  },
  {
   "cell_type": "code",
   "execution_count": null,
   "metadata": {
    "collapsed": false
   },
   "outputs": [],
   "source": [
    "df['2017']"
   ]
  },
  {
   "cell_type": "markdown",
   "metadata": {},
   "source": [
    "### Hence we now know our maximum activity traffic is from the year 2017"
   ]
  },
  {
   "cell_type": "code",
   "execution_count": null,
   "metadata": {
    "collapsed": false
   },
   "outputs": [],
   "source": [
    "s = pd.Series(df['createdat'], name='squares')\n",
    "s"
   ]
  },
  {
   "cell_type": "code",
   "execution_count": null,
   "metadata": {
    "collapsed": false
   },
   "outputs": [],
   "source": [
    "s.values"
   ]
  },
  {
   "cell_type": "code",
   "execution_count": null,
   "metadata": {
    "collapsed": false
   },
   "outputs": [],
   "source": [
    "s.index"
   ]
  },
  {
   "cell_type": "markdown",
   "metadata": {},
   "source": [
    "## Total activities per Game"
   ]
  },
  {
   "cell_type": "code",
   "execution_count": 30,
   "metadata": {
    "collapsed": false
   },
   "outputs": [
    {
     "data": {
      "image/png": "[encoded data removed]",
      "text/plain": [
       "<matplotlib.figure.Figure at 0x7ff7d9acae10>"
      ]
     },
     "metadata": {},
     "output_type": "display_data"
    }
   ],
   "source": [
    "df.groupby(['gamename']).size().plot(kind='bar', figsize=(20,10))\n",
    "plt.show()"
   ]
  },
  {
   "cell_type": "markdown",
   "metadata": {},
   "source": [
    "## Total Activities by Age"
   ]
  },
  {
   "cell_type": "code",
   "execution_count": 31,
   "metadata": {
    "collapsed": false
   },
   "outputs": [
    {
     "data": {
      "image/png": "[encoded data removed]",
      "text/plain": [
       "<matplotlib.figure.Figure at 0x7ff7d923a6d0>"
      ]
     },
     "metadata": {},
     "output_type": "display_data"
    }
   ],
   "source": [
    "df.groupby(['age']).size().plot(kind='line',figsize=(15,10))\n",
    "plt.show()"
   ]
  },
  {
   "cell_type": "markdown",
   "metadata": {},
   "source": [
    "## Plots of duration for every child on the first day v/s last day\n",
    "\n",
    "### To find if the engagement of a child increased with time"
   ]
  },
  {
   "cell_type": "code",
   "execution_count": 32,
   "metadata": {
    "collapsed": false
   },
   "outputs": [
    {
     "ename": "NameError",
     "evalue": "name 'group' is not defined",
     "output_type": "error",
     "traceback": [
      "\u001b[0;31m---------------------------------------------------------------------------\u001b[0m",
      "\u001b[0;31mNameError\u001b[0m                                 Traceback (most recent call last)",
      "\u001b[0;32m<ipython-input-32-fa0f4323de2b>\u001b[0m in \u001b[0;36m<module>\u001b[0;34m()\u001b[0m\n\u001b[1;32m     11\u001b[0m \u001b[0;34m\u001b[0m\u001b[0m\n\u001b[1;32m     12\u001b[0m \u001b[0;32mfor\u001b[0m \u001b[0mcreatedat\u001b[0m\u001b[0;34m,\u001b[0m \u001b[0mduration\u001b[0m \u001b[0;32min\u001b[0m \u001b[0mdf\u001b[0m\u001b[0;34m.\u001b[0m\u001b[0mgroupby\u001b[0m\u001b[0;34m(\u001b[0m\u001b[0;34m'childid'\u001b[0m\u001b[0;34m)\u001b[0m\u001b[0;34m:\u001b[0m\u001b[0;34m\u001b[0m\u001b[0m\n\u001b[0;32m---> 13\u001b[0;31m     \u001b[0mgroup\u001b[0m\u001b[0;34m.\u001b[0m\u001b[0mplot\u001b[0m\u001b[0;34m(\u001b[0m\u001b[0mx\u001b[0m\u001b[0;34m=\u001b[0m\u001b[0mpd\u001b[0m\u001b[0;34m.\u001b[0m\u001b[0mto_datetime\u001b[0m\u001b[0;34m(\u001b[0m\u001b[0mgroup\u001b[0m\u001b[0;34m[\u001b[0m\u001b[0;34m'createdat'\u001b[0m\u001b[0;34m]\u001b[0m\u001b[0;34m)\u001b[0m\u001b[0;34m,\u001b[0m \u001b[0my\u001b[0m\u001b[0;34m=\u001b[0m\u001b[0;34m'duration'\u001b[0m\u001b[0;34m,\u001b[0m \u001b[0max\u001b[0m\u001b[0;34m=\u001b[0m\u001b[0max\u001b[0m\u001b[0;34m,\u001b[0m \u001b[0mlabel\u001b[0m\u001b[0;34m=\u001b[0m\u001b[0mname\u001b[0m\u001b[0;34m)\u001b[0m\u001b[0;34m\u001b[0m\u001b[0m\n\u001b[0m\u001b[1;32m     14\u001b[0m \u001b[0;34m\u001b[0m\u001b[0m\n\u001b[1;32m     15\u001b[0m \u001b[0mplt\u001b[0m\u001b[0;34m.\u001b[0m\u001b[0mshow\u001b[0m\u001b[0;34m(\u001b[0m\u001b[0;34m)\u001b[0m\u001b[0;31m#df_first.plot(kind='line')\u001b[0m\u001b[0;34m\u001b[0m\u001b[0m\n",
      "\u001b[0;31mNameError\u001b[0m: name 'group' is not defined"
     ]
    }
   ],
   "source": [
    "df_first = df.groupby(['childid'])['createdat','duration'].first()\n",
    "df_last = df.groupby(['childid'])['createdat','duration'].last()\n",
    "\n",
    "#DF = pd.concat([df_first,df_last],keys=['childid','childid'])\n",
    "#DFGroup = DF.groupby(['childid','duration'])\n",
    "\n",
    "import matplotlib.pyplot as plt\n",
    "\n",
    "#fil = pd.read_csv('imei.csv', sep=r'\\s*', engine='python')\n",
    "fig, ax = plt.subplots(figsize=(18,6))\n",
    "\n",
    "for createdat, duration in df.groupby('childid'):\n",
    "    group.plot(x=pd.to_datetime(group['createdat']), y='duration', ax=ax, label=name)\n",
    "\n",
    "plt.show()#df_first.plot(kind='line')\n",
    "#df_last.plot(kind='line')\n",
    "plt.show()"
   ]
  },
  {
   "cell_type": "markdown",
   "metadata": {},
   "source": [
    "## Saving the clean anamolies free data to csv"
   ]
  },
  {
   "cell_type": "code",
   "execution_count": 33,
   "metadata": {
    "collapsed": false
   },
   "outputs": [],
   "source": [
    "df.to_csv('SquarePanda_DataQuest.csv', sep=',', encoding='utf-8')"
   ]
  },
  {
   "cell_type": "code",
   "execution_count": 34,
   "metadata": {
    "collapsed": false
   },
   "outputs": [
    {
     "data": {
      "image/png": "[encoded data removed]",
      "text/plain": [
       "<matplotlib.figure.Figure at 0x7ff7d9b50690>"
      ]
     },
     "metadata": {},
     "output_type": "display_data"
    }
   ],
   "source": [
    "import numpy as np\n",
    "grouped = df.groupby(df['gamename'])\n",
    "grouped['duration'].agg(np.mean).plot(kind='bar')\n",
    "plt.show()"
   ]
  },
  {
   "cell_type": "code",
   "execution_count": 35,
   "metadata": {
    "collapsed": false
   },
   "outputs": [
    {
     "ename": "SyntaxError",
     "evalue": "invalid syntax (<ipython-input-35-a22d57ef1528>, line 3)",
     "output_type": "error",
     "traceback": [
      "\u001b[0;36m  File \u001b[0;32m\"<ipython-input-35-a22d57ef1528>\"\u001b[0;36m, line \u001b[0;32m3\u001b[0m\n\u001b[0;31m    grouped['duration'].agg(np.mean).plot(kind='line', figsize=(20,10), ylabel=)\u001b[0m\n\u001b[0m                                                                               ^\u001b[0m\n\u001b[0;31mSyntaxError\u001b[0m\u001b[0;31m:\u001b[0m invalid syntax\n"
     ]
    }
   ],
   "source": [
    "import numpy as np\n",
    "grouped = df.groupby(df['age'])\n",
    "grouped['duration'].agg(np.mean).plot(kind='line', figsize=(20,10), ylabel=)\n",
    "plt.show()"
   ]
  },
  {
   "cell_type": "code",
   "execution_count": 36,
   "metadata": {
    "collapsed": false
   },
   "outputs": [
    {
     "data": {
      "text/plain": [
       "childid\n",
       "183.0    2016-11-10 14:46:00\n",
       "188.0    2016-09-14 23:52:00\n",
       "189.0    2016-07-15 21:08:00\n",
       "191.0    2016-09-15 15:39:00\n",
       "193.0    2016-08-02 16:47:00\n",
       "194.0    2016-08-09 19:05:00\n",
       "196.0    2016-07-16 03:07:00\n",
       "197.0    2016-07-16 04:12:00\n",
       "198.0    2016-07-17 00:08:00\n",
       "199.0    2016-11-06 23:36:00\n",
       "200.0    2016-07-20 14:54:00\n",
       "202.0    2016-07-25 21:55:00\n",
       "203.0    2016-10-04 15:34:00\n",
       "204.0    2016-07-17 00:31:00\n",
       "205.0    2016-07-18 23:49:00\n",
       "206.0    2016-09-26 23:44:00\n",
       "211.0    2016-08-05 02:04:00\n",
       "214.0    2016-09-16 17:27:00\n",
       "215.0    2016-11-12 16:07:00\n",
       "218.0    2016-08-20 23:38:00\n",
       "219.0    2016-07-18 00:59:00\n",
       "220.0    2016-11-13 17:24:00\n",
       "229.0    2016-07-18 23:18:00\n",
       "230.0    2016-07-26 14:28:00\n",
       "232.0    2016-07-21 01:19:00\n",
       "233.0    2016-09-23 23:45:00\n",
       "234.0    2016-07-22 03:01:00\n",
       "237.0    2016-07-22 22:19:00\n",
       "238.0    2016-08-08 18:29:00\n",
       "246.0    2016-08-17 15:08:00\n",
       "                 ...        \n",
       "3914.0   2017-07-10 20:22:00\n",
       "3915.0   2017-07-11 00:47:00\n",
       "3916.0   2017-07-10 20:13:00\n",
       "3917.0   2017-07-11 12:03:00\n",
       "3918.0   2017-07-11 20:35:00\n",
       "3919.0   2017-07-11 21:00:00\n",
       "3920.0   2017-07-11 00:19:00\n",
       "3921.0   2017-07-13 15:10:00\n",
       "3922.0   2017-07-12 13:23:00\n",
       "3923.0   2017-07-12 18:18:00\n",
       "3924.0   2017-07-12 21:52:00\n",
       "3925.0   2017-07-13 01:03:00\n",
       "3927.0   2017-07-13 01:20:00\n",
       "3928.0   2017-07-13 02:53:00\n",
       "3929.0   2017-07-13 13:23:00\n",
       "3930.0   2017-07-13 13:30:00\n",
       "3931.0   2017-07-13 13:50:00\n",
       "3934.0   2017-07-13 13:40:00\n",
       "3935.0   2017-07-13 13:49:00\n",
       "3936.0   2017-07-13 16:15:00\n",
       "3937.0   2017-07-13 17:12:00\n",
       "3938.0   2017-07-13 16:30:00\n",
       "3939.0   2017-07-13 18:01:00\n",
       "3940.0   2017-07-13 13:59:00\n",
       "3942.0   2017-07-13 22:29:00\n",
       "3943.0   2017-07-13 22:41:00\n",
       "3944.0   2017-07-14 00:34:00\n",
       "3945.0   2017-07-14 00:47:00\n",
       "3946.0   2017-07-14 03:17:00\n",
       "3947.0   2017-07-14 02:08:00\n",
       "Name: createdat, Length: 2745, dtype: datetime64[ns]"
      ]
     },
     "execution_count": 36,
     "metadata": {},
     "output_type": "execute_result"
    }
   ],
   "source": [
    "df_createdate = df.groupby(['childid'])['createdat'].first()\n",
    "df_createdat = pd.to_datetime(df_createdate)\n",
    "df_createdat"
   ]
  },
  {
   "cell_type": "code",
   "execution_count": null,
   "metadata": {
    "collapsed": true
   },
   "outputs": [],
   "source": []
  }
 ],
 "metadata": {
  "kernelspec": {
   "display_name": "Python 3",
   "language": "python",
   "name": "python3"
  },
  "language_info": {
   "codemirror_mode": {
    "name": "ipython",
    "version": 2
   },
   "file_extension": ".py",
   "mimetype": "text/x-python",
   "name": "python",
   "nbconvert_exporter": "python",
   "pygments_lexer": "ipython2",
   "version": "2.7.13"
  }
 },
 "nbformat": 4,
 "nbformat_minor": 2
}
