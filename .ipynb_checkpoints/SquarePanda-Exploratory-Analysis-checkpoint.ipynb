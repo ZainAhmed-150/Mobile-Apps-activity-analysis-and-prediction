{
 "cells": [
  {
   "cell_type": "code",
   "execution_count": 1,
   "metadata": {
    "collapsed": false
   },
   "outputs": [
    {
     "name": "stderr",
     "output_type": "stream",
     "text": [
      "\n",
      "Bad key \"patch.force_edgecolor\" on line 33 in\n",
      "/home/miti/.local/lib/python2.7/site-packages/matplotlib/mpl-data/stylelib/_classic_test.mplstyle.\n",
      "You probably need to get an updated matplotlibrc file from\n",
      "http://github.com/matplotlib/matplotlib/blob/master/matplotlibrc.template\n",
      "or from the matplotlib source distribution\n",
      "\n",
      "Bad key \"lines.dashed_pattern\" on line 18 in\n",
      "/home/miti/.local/lib/python2.7/site-packages/matplotlib/mpl-data/stylelib/_classic_test.mplstyle.\n",
      "You probably need to get an updated matplotlibrc file from\n",
      "http://github.com/matplotlib/matplotlib/blob/master/matplotlibrc.template\n",
      "or from the matplotlib source distribution\n",
      "\n",
      "Bad key \"boxplot.meanprops.markeredgecolor\" on line 369 in\n",
      "/home/miti/.local/lib/python2.7/site-packages/matplotlib/mpl-data/stylelib/_classic_test.mplstyle.\n",
      "You probably need to get an updated matplotlibrc file from\n",
      "http://github.com/matplotlib/matplotlib/blob/master/matplotlibrc.template\n",
      "or from the matplotlib source distribution\n",
      "\n",
      "Bad key \"date.autoformatter.second\" on line 235 in\n",
      "/home/miti/.local/lib/python2.7/site-packages/matplotlib/mpl-data/stylelib/_classic_test.mplstyle.\n",
      "You probably need to get an updated matplotlibrc file from\n",
      "http://github.com/matplotlib/matplotlib/blob/master/matplotlibrc.template\n",
      "or from the matplotlib source distribution\n",
      "\n",
      "Bad key \"ytick.major.right\" on line 271 in\n",
      "/home/miti/.local/lib/python2.7/site-packages/matplotlib/mpl-data/stylelib/_classic_test.mplstyle.\n",
      "You probably need to get an updated matplotlibrc file from\n",
      "http://github.com/matplotlib/matplotlib/blob/master/matplotlibrc.template\n",
      "or from the matplotlib source distribution\n",
      "\n",
      "Bad key \"date.autoformatter.month\" on line 231 in\n",
      "/home/miti/.local/lib/python2.7/site-packages/matplotlib/mpl-data/stylelib/_classic_test.mplstyle.\n",
      "You probably need to get an updated matplotlibrc file from\n",
      "http://github.com/matplotlib/matplotlib/blob/master/matplotlibrc.template\n",
      "or from the matplotlib source distribution\n",
      "\n",
      "Bad key \"scatter.marker\" on line 345 in\n",
      "/home/miti/.local/lib/python2.7/site-packages/matplotlib/mpl-data/stylelib/_classic_test.mplstyle.\n",
      "You probably need to get an updated matplotlibrc file from\n",
      "http://github.com/matplotlib/matplotlib/blob/master/matplotlibrc.template\n",
      "or from the matplotlib source distribution\n",
      "\n",
      "Bad key \"ytick.minor.right\" on line 273 in\n",
      "/home/miti/.local/lib/python2.7/site-packages/matplotlib/mpl-data/stylelib/_classic_test.mplstyle.\n",
      "You probably need to get an updated matplotlibrc file from\n",
      "http://github.com/matplotlib/matplotlib/blob/master/matplotlibrc.template\n",
      "or from the matplotlib source distribution\n",
      "\n",
      "Bad key \"ytick.major.left\" on line 270 in\n",
      "/home/miti/.local/lib/python2.7/site-packages/matplotlib/mpl-data/stylelib/_classic_test.mplstyle.\n",
      "You probably need to get an updated matplotlibrc file from\n",
      "http://github.com/matplotlib/matplotlib/blob/master/matplotlibrc.template\n",
      "or from the matplotlib source distribution\n",
      "\n",
      "Bad key \"ytick.left\" on line 258 in\n",
      "/home/miti/.local/lib/python2.7/site-packages/matplotlib/mpl-data/stylelib/_classic_test.mplstyle.\n",
      "You probably need to get an updated matplotlibrc file from\n",
      "http://github.com/matplotlib/matplotlib/blob/master/matplotlibrc.template\n",
      "or from the matplotlib source distribution\n",
      "\n",
      "Bad key \"xtick.minor.bottom\" on line 256 in\n",
      "/home/miti/.local/lib/python2.7/site-packages/matplotlib/mpl-data/stylelib/_classic_test.mplstyle.\n",
      "You probably need to get an updated matplotlibrc file from\n",
      "http://github.com/matplotlib/matplotlib/blob/master/matplotlibrc.template\n",
      "or from the matplotlib source distribution\n",
      "\n",
      "Bad key \"axes.autolimit_mode\" on line 220 in\n",
      "/home/miti/.local/lib/python2.7/site-packages/matplotlib/mpl-data/stylelib/_classic_test.mplstyle.\n",
      "You probably need to get an updated matplotlibrc file from\n",
      "http://github.com/matplotlib/matplotlib/blob/master/matplotlibrc.template\n",
      "or from the matplotlib source distribution\n",
      "\n",
      "Bad key \"hatch.color\" on line 37 in\n",
      "/home/miti/.local/lib/python2.7/site-packages/matplotlib/mpl-data/stylelib/_classic_test.mplstyle.\n",
      "You probably need to get an updated matplotlibrc file from\n",
      "http://github.com/matplotlib/matplotlib/blob/master/matplotlibrc.template\n",
      "or from the matplotlib source distribution\n",
      "\n",
      "Bad key \"boxplot.meanprops.marker\" on line 367 in\n",
      "/home/miti/.local/lib/python2.7/site-packages/matplotlib/mpl-data/stylelib/_classic_test.mplstyle.\n",
      "You probably need to get an updated matplotlibrc file from\n",
      "http://github.com/matplotlib/matplotlib/blob/master/matplotlibrc.template\n",
      "or from the matplotlib source distribution\n",
      "\n",
      "Bad key \"date.autoformatter.minute\" on line 234 in\n",
      "/home/miti/.local/lib/python2.7/site-packages/matplotlib/mpl-data/stylelib/_classic_test.mplstyle.\n",
      "You probably need to get an updated matplotlibrc file from\n",
      "http://github.com/matplotlib/matplotlib/blob/master/matplotlibrc.template\n",
      "or from the matplotlib source distribution\n",
      "\n",
      "Bad key \"xtick.major.top\" on line 253 in\n",
      "/home/miti/.local/lib/python2.7/site-packages/matplotlib/mpl-data/stylelib/_classic_test.mplstyle.\n",
      "You probably need to get an updated matplotlibrc file from\n",
      "http://github.com/matplotlib/matplotlib/blob/master/matplotlibrc.template\n",
      "or from the matplotlib source distribution\n",
      "\n",
      "Bad key \"date.autoformatter.day\" on line 232 in\n",
      "/home/miti/.local/lib/python2.7/site-packages/matplotlib/mpl-data/stylelib/_classic_test.mplstyle.\n",
      "You probably need to get an updated matplotlibrc file from\n",
      "http://github.com/matplotlib/matplotlib/blob/master/matplotlibrc.template\n",
      "or from the matplotlib source distribution\n",
      "\n",
      "Bad key \"ytick.right\" on line 259 in\n",
      "/home/miti/.local/lib/python2.7/site-packages/matplotlib/mpl-data/stylelib/_classic_test.mplstyle.\n",
      "You probably need to get an updated matplotlibrc file from\n",
      "http://github.com/matplotlib/matplotlib/blob/master/matplotlibrc.template\n",
      "or from the matplotlib source distribution\n",
      "\n",
      "Bad key \"xtick.bottom\" on line 242 in\n",
      "/home/miti/.local/lib/python2.7/site-packages/matplotlib/mpl-data/stylelib/_classic_test.mplstyle.\n",
      "You probably need to get an updated matplotlibrc file from\n",
      "http://github.com/matplotlib/matplotlib/blob/master/matplotlibrc.template\n",
      "or from the matplotlib source distribution\n",
      "\n",
      "Bad key \"date.autoformatter.microsecond\" on line 236 in\n",
      "/home/miti/.local/lib/python2.7/site-packages/matplotlib/mpl-data/stylelib/_classic_test.mplstyle.\n",
      "You probably need to get an updated matplotlibrc file from\n",
      "http://github.com/matplotlib/matplotlib/blob/master/matplotlibrc.template\n",
      "or from the matplotlib source distribution\n",
      "\n",
      "Bad key \"hist.bins\" on line 40 in\n",
      "/home/miti/.local/lib/python2.7/site-packages/matplotlib/mpl-data/stylelib/_classic_test.mplstyle.\n",
      "You probably need to get an updated matplotlibrc file from\n",
      "http://github.com/matplotlib/matplotlib/blob/master/matplotlibrc.template\n",
      "or from the matplotlib source distribution\n",
      "\n",
      "Bad key \"lines.scale_dashes\" on line 21 in\n",
      "/home/miti/.local/lib/python2.7/site-packages/matplotlib/mpl-data/stylelib/_classic_test.mplstyle.\n",
      "You probably need to get an updated matplotlibrc file from\n",
      "http://github.com/matplotlib/matplotlib/blob/master/matplotlibrc.template\n",
      "or from the matplotlib source distribution\n",
      "\n",
      "Bad key \"axes.titlepad\" on line 184 in\n",
      "/home/miti/.local/lib/python2.7/site-packages/matplotlib/mpl-data/stylelib/_classic_test.mplstyle.\n",
      "You probably need to get an updated matplotlibrc file from\n",
      "http://github.com/matplotlib/matplotlib/blob/master/matplotlibrc.template\n",
      "or from the matplotlib source distribution\n",
      "\n",
      "Bad key \"_internal.classic_mode\" on line 526 in\n",
      "/home/miti/.local/lib/python2.7/site-packages/matplotlib/mpl-data/stylelib/_classic_test.mplstyle.\n",
      "You probably need to get an updated matplotlibrc file from\n",
      "http://github.com/matplotlib/matplotlib/blob/master/matplotlibrc.template\n",
      "or from the matplotlib source distribution\n",
      "\n",
      "Bad key \"date.autoformatter.hour\" on line 233 in\n",
      "/home/miti/.local/lib/python2.7/site-packages/matplotlib/mpl-data/stylelib/_classic_test.mplstyle.\n",
      "You probably need to get an updated matplotlibrc file from\n",
      "http://github.com/matplotlib/matplotlib/blob/master/matplotlibrc.template\n",
      "or from the matplotlib source distribution\n",
      "\n",
      "Bad key \"boxplot.meanprops.markerfacecolor\" on line 368 in\n",
      "/home/miti/.local/lib/python2.7/site-packages/matplotlib/mpl-data/stylelib/_classic_test.mplstyle.\n",
      "You probably need to get an updated matplotlibrc file from\n",
      "http://github.com/matplotlib/matplotlib/blob/master/matplotlibrc.template\n",
      "or from the matplotlib source distribution\n",
      "\n",
      "Bad key \"date.autoformatter.year\" on line 230 in\n",
      "/home/miti/.local/lib/python2.7/site-packages/matplotlib/mpl-data/stylelib/_classic_test.mplstyle.\n",
      "You probably need to get an updated matplotlibrc file from\n",
      "http://github.com/matplotlib/matplotlib/blob/master/matplotlibrc.template\n",
      "or from the matplotlib source distribution\n",
      "/home/miti/.local/lib/python2.7/site-packages/matplotlib/__init__.py:1076: UserWarning: Bad val \"auto\" on line #360\n",
      "\t\"boxplot.flierprops.markerfacecolor: auto\n",
      "\"\n",
      "\tin file \"/home/miti/.local/lib/python2.7/site-packages/matplotlib/mpl-data/stylelib/_classic_test.mplstyle\"\n",
      "\tKey boxplot.flierprops.markerfacecolor: auto does not look like a color arg\n",
      "  (val, error_details, msg))\n",
      "\n",
      "Bad key \"lines.dotted_pattern\" on line 20 in\n",
      "/home/miti/.local/lib/python2.7/site-packages/matplotlib/mpl-data/stylelib/_classic_test.mplstyle.\n",
      "You probably need to get an updated matplotlibrc file from\n",
      "http://github.com/matplotlib/matplotlib/blob/master/matplotlibrc.template\n",
      "or from the matplotlib source distribution\n",
      "\n",
      "Bad key \"axes.formatter.offset_threshold\" on line 207 in\n",
      "/home/miti/.local/lib/python2.7/site-packages/matplotlib/mpl-data/stylelib/_classic_test.mplstyle.\n",
      "You probably need to get an updated matplotlibrc file from\n",
      "http://github.com/matplotlib/matplotlib/blob/master/matplotlibrc.template\n",
      "or from the matplotlib source distribution\n",
      "\n",
      "Bad key \"xtick.minor.top\" on line 255 in\n",
      "/home/miti/.local/lib/python2.7/site-packages/matplotlib/mpl-data/stylelib/_classic_test.mplstyle.\n",
      "You probably need to get an updated matplotlibrc file from\n",
      "http://github.com/matplotlib/matplotlib/blob/master/matplotlibrc.template\n",
      "or from the matplotlib source distribution\n",
      "\n",
      "Bad key \"ytick.minor.left\" on line 272 in\n",
      "/home/miti/.local/lib/python2.7/site-packages/matplotlib/mpl-data/stylelib/_classic_test.mplstyle.\n",
      "You probably need to get an updated matplotlibrc file from\n",
      "http://github.com/matplotlib/matplotlib/blob/master/matplotlibrc.template\n",
      "or from the matplotlib source distribution\n",
      "\n",
      "Bad key \"lines.dashdot_pattern\" on line 19 in\n",
      "/home/miti/.local/lib/python2.7/site-packages/matplotlib/mpl-data/stylelib/_classic_test.mplstyle.\n",
      "You probably need to get an updated matplotlibrc file from\n",
      "http://github.com/matplotlib/matplotlib/blob/master/matplotlibrc.template\n",
      "or from the matplotlib source distribution\n",
      "\n",
      "Bad key \"xtick.major.bottom\" on line 254 in\n",
      "/home/miti/.local/lib/python2.7/site-packages/matplotlib/mpl-data/stylelib/_classic_test.mplstyle.\n",
      "You probably need to get an updated matplotlibrc file from\n",
      "http://github.com/matplotlib/matplotlib/blob/master/matplotlibrc.template\n",
      "or from the matplotlib source distribution\n",
      "\n",
      "Bad key \"boxplot.meanprops.markersize\" on line 370 in\n",
      "/home/miti/.local/lib/python2.7/site-packages/matplotlib/mpl-data/stylelib/_classic_test.mplstyle.\n",
      "You probably need to get an updated matplotlibrc file from\n",
      "http://github.com/matplotlib/matplotlib/blob/master/matplotlibrc.template\n",
      "or from the matplotlib source distribution\n",
      "\n",
      "Bad key \"hatch.linewidth\" on line 38 in\n",
      "/home/miti/.local/lib/python2.7/site-packages/matplotlib/mpl-data/stylelib/_classic_test.mplstyle.\n",
      "You probably need to get an updated matplotlibrc file from\n",
      "http://github.com/matplotlib/matplotlib/blob/master/matplotlibrc.template\n",
      "or from the matplotlib source distribution\n",
      "\n",
      "Bad key \"xtick.top\" on line 241 in\n",
      "/home/miti/.local/lib/python2.7/site-packages/matplotlib/mpl-data/stylelib/_classic_test.mplstyle.\n",
      "You probably need to get an updated matplotlibrc file from\n",
      "http://github.com/matplotlib/matplotlib/blob/master/matplotlibrc.template\n",
      "or from the matplotlib source distribution\n",
      "/home/miti/.local/lib/python2.7/site-packages/IPython/core/interactiveshell.py:2717: DtypeWarning: Columns (14,17) have mixed types. Specify dtype option on import or set low_memory=False.\n",
      "  interactivity=interactivity, compiler=compiler, result=result)\n"
     ]
    }
   ],
   "source": [
    "import utils\n",
    "import pandas as pd\n",
    "import datetime as dt\n",
    "import matplotlib.pyplot as plt\n",
    "from sklearn import tree, model_selection\n",
    "\n",
    "df = pd.read_csv(\"DataTest1..csv\")\n"
   ]
  },
  {
   "cell_type": "code",
   "execution_count": null,
   "metadata": {
    "collapsed": false
   },
   "outputs": [],
   "source": []
  },
  {
   "cell_type": "code",
   "execution_count": 2,
   "metadata": {
    "collapsed": false
   },
   "outputs": [
    {
     "data": {
      "text/plain": [
       "'12/10/12 12:00 AM'"
      ]
     },
     "execution_count": 2,
     "metadata": {},
     "output_type": "execute_result"
    }
   ],
   "source": [
    "df[\"dateofbirth\"][23453]"
   ]
  },
  {
   "cell_type": "code",
   "execution_count": 3,
   "metadata": {
    "collapsed": false,
    "scrolled": true
   },
   "outputs": [],
   "source": [
    "df = df[df['nonsensewords']==0]"
   ]
  },
  {
   "cell_type": "code",
   "execution_count": 4,
   "metadata": {
    "collapsed": false
   },
   "outputs": [],
   "source": [
    "df = df[df['dnc']==0]"
   ]
  },
  {
   "cell_type": "code",
   "execution_count": 5,
   "metadata": {
    "collapsed": false
   },
   "outputs": [
    {
     "data": {
      "text/plain": [
       "<bound method DataFrame.describe of                               id  childid     endtime        gamename  \\\n",
       "65541   5852b9e2df72382142b11d73   1271.0  1481817224          Lagoon   \n",
       "65543   585930c3d7f70e2509ad2655   1333.0  1482240897         Bowling   \n",
       "65545   586323f35534270c46e02e30   1399.0  1482893000         Bowling   \n",
       "65546   584976cb5823fe1d296de9fc    246.0  1481210212         Bowling   \n",
       "65550   58548a993a0e9b276ad16109   1320.0  1481936197          Lagoon   \n",
       "65551   5864214f5534270c46e03cd6   1380.0  1482957862  Monster Rhymes   \n",
       "65552   586130e4a0169895756bf3d4   1411.0  1482765236         Bowling   \n",
       "65554   58615af7a0169895756bf988    878.0  1482775931          Lagoon   \n",
       "65556   58aed7bebf7b27de03c91b8f   2239.0  1487853570      Space Cows   \n",
       "65557   58aef64fbf7b27de03c92134    778.0  1487861395  Monster Rhymes   \n",
       "65559   58da85c724b6d33435faf6bb   1728.0  1490716276         Bowling   \n",
       "65561   58a6615e14dbfb13680d1a96   2156.0  1487298958         Bowling   \n",
       "65563   58caae87e590fab3738ae0c9   2235.0  1489678093         Farming   \n",
       "65565   58cacd30e590fab3738ae9e0   2427.0  1489685942         Bubbles   \n",
       "65566   58da8e4824b6d33435faf917   2419.0  1490718451         Bowling   \n",
       "65567   58daa14924b6d33435faff29   2095.0  1490723317         Farming   \n",
       "65568   58dab61924b6d33435fb053b    317.0  1490728635          Lagoon   \n",
       "65569   58daf4e824b6d33435fb0ad3   2717.0  1490744723       Letterlab   \n",
       "65570   58dbb52424b6d33435fb119d   2210.0  1490793938         Farming   \n",
       "65571   58dbd33424b6d33435fb16d7   1352.0  1490801635         Bowling   \n",
       "65572   58dbed2624b6d33435fb1d49   1915.0  1490808277         Bowling   \n",
       "65573   58dc0e6224b6d33435fb232c   2646.0  1490816785  Monster Rhymes   \n",
       "65574   58dc1d1024b6d33435fb2a16   1779.0  1490820542  Monster Rhymes   \n",
       "65575   58dc509a24b6d33435fb31e2   2545.0  1490833738         Bowling   \n",
       "65576   58dcf9bf24b6d33435fb3a27    532.0  1490877040         Farming   \n",
       "65577   58b38d873e26899638c475ac    204.0  1488162262  Monster Rhymes   \n",
       "65579   58c02ab95ca7c8af50bd794a   1272.0  1488988959          Lagoon   \n",
       "65583   587406213635a5c077c94c18   1256.0  1483999516         Farming   \n",
       "65586   58c06c465ca7c8af50bd8d2b   2308.0  1489005743      Space Cows   \n",
       "65587   58c0a8685ca7c8af50bd9136   2405.0  1489021148         Bowling   \n",
       "...                          ...      ...         ...             ...   \n",
       "309522  586523313635a5c077c73e64   1339.0  1482995086          Lagoon   \n",
       "309526  5878ce523635a5c077c9ee4b   1585.0  1484312913          Lagoon   \n",
       "309540  588c0d28a909d19a7e17005a   1805.0  1485574235         Farming   \n",
       "309542  58923194bea94ab60fb71417   1859.0  1485975951          Lagoon   \n",
       "309543  58911507a909d19a7e17d834   1418.0  1485903942         Farming   \n",
       "309549  58a4ac4214dbfb13680cef43   1953.0  1487187049          Lagoon   \n",
       "309550  589a1750538c70630d55adbb   1795.0  1486493529          Lagoon   \n",
       "309551  58ac552006206ac750d6928b   2215.0  1487689048          Lagoon   \n",
       "309552  58af8632bf7b27de03c93ba8   2247.0  1487898231  Monster Rhymes   \n",
       "309554  58b5da313e26899638c4ac87    317.0  1488312958          Lagoon   \n",
       "309558  58b976675ca7c8af50bcf08e   2316.0  1488549572         Farming   \n",
       "309566  58d673730361a0c507983618   2704.0  1490449421          Lagoon   \n",
       "309568  58dbf72e24b6d33435fb1fc0   1606.0  1490810837          Lagoon   \n",
       "309569  58d0329be590fab3738b5bdf    317.0  1490039588          Lagoon   \n",
       "309570  58e7f75cb7423af611d807ae   1705.0  1491597345          Lagoon   \n",
       "309571  58e931e1b7423af611d816df   2893.0  1491677860          Lagoon   \n",
       "309576  59089c60a1e042fe5465c1e6   2236.0  1493736815          Lagoon   \n",
       "309585  58e529edb7423af611d7a7af   2799.0  1491413668          Lagoon   \n",
       "309589  5935596f5d8663737fb45f8f   3628.0  1496668534          Lagoon   \n",
       "309591  59214b181c94814044088f4b   3275.0  1495354470          Lagoon   \n",
       "309594  58f90167d8fca6e227ea1c35   2028.0  1492714067          Lagoon   \n",
       "309595  59506075bacd0a5f4ce16948   2952.0  1498439882         Farming   \n",
       "309597  5936a5155d8663737fb4827a   3410.0  1496753444          Lagoon   \n",
       "309598  5939ee9242b780321408690f   3563.0  1496968864          Lagoon   \n",
       "309600  59415187bacd0a5f4ce063ed   1809.0  1497452974          Lagoon   \n",
       "309608  592148b01c94814044088eda   3275.0  1495353853          Lagoon   \n",
       "309610  59299ab4b168a0c70a3a0795   3410.0  1495899159          Lagoon   \n",
       "309615  593780be5d8663737fb4a205   3618.0  1496809686          Lagoon   \n",
       "309619  594ebaacbacd0a5f4ce15245   3376.0  1498331892          Lagoon   \n",
       "309621  5963fe5a15ac52da49046975   3914.0  1499725529          Lagoon   \n",
       "\n",
       "       gamescore  nonsensewords   starttime  userid    word wordtype  \\\n",
       "65541          1              0  1481817167   524.0     JAM     WORD   \n",
       "65543          1              0  1482240834   585.0     ROD     WORD   \n",
       "65545          1              0  1482892879   636.0     POP     WORD   \n",
       "65546          0              0  1481210081    95.0    SWIM     WORD   \n",
       "65550          1              0  1481936192   575.0      HO     WORD   \n",
       "65551          1              0  1482957771   617.0     RAP     WORD   \n",
       "65552          1              0  1482765167   645.0     SIT     WORD   \n",
       "65554          1              0  1482775928   402.0     DAY     WORD   \n",
       "65556          1              0  1487853537   998.0     BAG     WORD   \n",
       "65557          1              0  1487861379   291.0     POP     WORD   \n",
       "65559          1              0  1490716187   788.0     JOB     WORD   \n",
       "65561          1              0  1487298889   951.0     SIT     WORD   \n",
       "65563          1              0  1489678085   999.0       B   LETTER   \n",
       "65565          1              0  1489685728  1098.0    CRAB     WORD   \n",
       "65566          1              0  1490718423  1091.0     RED     WORD   \n",
       "65567          1              0  1490723288   891.0       S   LETTER   \n",
       "65568          1              0  1490728607   134.0     JOB     WORD   \n",
       "65569          1              0  1490744133  1232.0     FOX     WORD   \n",
       "65570          1              0  1490793930   984.0       T   LETTER   \n",
       "65571          1              0  1490801586   600.0     RIP     WORD   \n",
       "65572          0              0  1490808217   749.0     BAT     WORD   \n",
       "65573          1              0  1490816743  1202.0     VAN     WORD   \n",
       "65574          1              0  1490820532   810.0     TIP     WORD   \n",
       "65575          1              0  1490833686  1158.0   CHICK     WORD   \n",
       "65576          1              0  1490877031   277.0       D   LETTER   \n",
       "65577          1              0  1488162235    74.0     WET     WORD   \n",
       "65579          1              0  1488988905   524.0   THING     WORD   \n",
       "65583          1              0  1483999505   534.0       R   LETTER   \n",
       "65586          1              0  1489005738   905.0    null   LETTER   \n",
       "65587          1              0  1489021068  1085.0     SUM     WORD   \n",
       "...          ...            ...         ...     ...     ...      ...   \n",
       "309522         1              0  1482995086   590.0    FOUR     WORD   \n",
       "309526         1              0  1484312913   754.0  LIZARD     WORD   \n",
       "309540         1              0  1485544862   822.0       M   LETTER   \n",
       "309542         1              0  1485893310   774.0     ASH     WORD   \n",
       "309543         1              0  1485881994   652.0       H   LETTER   \n",
       "309549         1              0  1487184826   835.0     CAT     WORD   \n",
       "309550         1              0  1486493529   816.0     CAT     WORD   \n",
       "309551         1              0  1487687000   987.0      LO     WORD   \n",
       "309552         1              0  1487898229  1004.0     TOP     WORD   \n",
       "309554         1              0  1488312958   134.0    RASE     WORD   \n",
       "309558         1              0  1488548750  1011.0       Q   LETTER   \n",
       "309566         1              0  1490449421  1223.0     DOG     WORD   \n",
       "309568         1              0  1490810837   757.0   SLEEP     WORD   \n",
       "309569         1              0  1490039588   134.0    MIMI     WORD   \n",
       "309570         1              0  1491597345   773.0     DAD     WORD   \n",
       "309571         1              0  1491676625  1302.0      GO     WORD   \n",
       "309576         1              0  1493736794   999.0       A     WORD   \n",
       "309585         1              0  1491413668  1221.0     FAT     WORD   \n",
       "309589         1              0  1496668534  1717.0     CAR     WORD   \n",
       "309591         1              0  1495354470  1502.0    BEAR     WORD   \n",
       "309594         1              0  1492714067   848.0     RAG     WORD   \n",
       "309595         1              0  1498438933  1338.0       F   LETTER   \n",
       "309597         1              0  1496686366  1586.0   HAPPY     WORD   \n",
       "309598         1              0  1496968864  1672.0   CLOWN     WORD   \n",
       "309600         1              0  1497452974   824.0       I     WORD   \n",
       "309608         1              0  1495353853  1502.0    MOON     WORD   \n",
       "309610         1              0  1495899159  1586.0     BAD     WORD   \n",
       "309615         1              0  1496803601  1711.0   ROBOT     WORD   \n",
       "309619         1              0  1498331060  1538.0    STOP     WORD   \n",
       "309621         1              0  1499725529  1890.0    MOTH     WORD   \n",
       "\n",
       "                createdat    end_ms_time  start_ms_time platform dnc gender  \\\n",
       "65541    12/15/16 3:42 PM  1481817232590  1481817158616     null   0      M   \n",
       "65543    12/20/16 1:23 PM  1482240897026  1482240834709     null   0      M   \n",
       "65545    12/28/16 2:31 AM  1482893000115  1482892879435     null   0      M   \n",
       "65546     12/8/16 3:05 PM  1481210212276  1481210081673     null   0      F   \n",
       "65550   12/17/16 12:45 AM  1481936203786  1481936181452     null   0      M   \n",
       "65551    12/28/16 8:32 PM  1482957862270  1482957771815     null   0      F   \n",
       "65552    12/26/16 3:01 PM  1482765236843  1482765167621     null   0      M   \n",
       "65554    12/26/16 6:01 PM  1482775939938  1482775913669     null   0      M   \n",
       "65556    2/23/17 12:38 PM  1487853570815  1487853537229     null   0      O   \n",
       "65557     2/23/17 2:48 PM  1487861395836  1487861379069     null   0      M   \n",
       "65559     3/28/17 3:48 PM  1490716276677  1490716187966      iOS   0      F   \n",
       "65561     2/17/17 2:35 AM  1487298958959  1487298889713     null   0      F   \n",
       "65563     3/16/17 3:26 PM  1489678093753  1489678085683     null   0      O   \n",
       "65565     3/16/17 5:36 PM  1489685942749  1489685728315     null   0      O   \n",
       "65566     3/28/17 4:24 PM  1490718451356  1490718423439     null   0      M   \n",
       "65567     3/28/17 5:45 PM  1490723317003  1490723288899     null   0      F   \n",
       "65568     3/28/17 7:14 PM  1490728644423  1490728597417     null   0      F   \n",
       "65569    3/28/17 11:42 PM  1490744723841  1490744133162      iOS   0      M   \n",
       "65570     3/29/17 1:22 PM  1490793938306  1490793930193     null   0      O   \n",
       "65571     3/29/17 3:31 PM  1490801635640  1490801586160      iOS   0      M   \n",
       "65572     3/29/17 5:21 PM  1490808277115  1490808217984     null   0      M   \n",
       "65573     3/29/17 7:43 PM  1490816785099  1490816743912      iOS   0      F   \n",
       "65574     3/29/17 8:46 PM  1490820542892  1490820532458      iOS   0      F   \n",
       "65575    3/30/17 12:26 AM  1490833738144  1490833686910      iOS   0      M   \n",
       "65576    3/30/17 12:27 PM  1490877040197  1490877031762     null   0      M   \n",
       "65577     2/27/17 2:23 AM  1488162262772  1488162235436     null   0      M   \n",
       "65579      3/8/17 4:00 PM  1488988965811  1488988895793     null   0      M   \n",
       "65583      1/9/17 9:52 PM  1483999516201  1483999505566     null   0      F   \n",
       "65586      3/8/17 8:40 PM  1489005743627  1489005738393     null   0      M   \n",
       "65587     3/9/17 12:57 AM  1489021148694  1489021068586  Android   0      M   \n",
       "...                   ...            ...            ...      ...  ..    ...   \n",
       "309522   12/29/16 2:52 PM  1482995094688  1482995071654     null   0      M   \n",
       "309526   1/13/17 12:55 PM  1484312918242  1484312897973     null   0      M   \n",
       "309540    1/28/17 3:16 AM  1485574235992  1485544862562     null   0      F   \n",
       "309542     2/1/17 7:05 PM  1485975957514  1485893299241     null   0      O   \n",
       "309543   1/31/17 10:51 PM  1485903942475  1485881994752     null   0      M   \n",
       "309549    2/15/17 7:30 PM  1487187055355  1487184815202     null   0      O   \n",
       "309550     2/7/17 6:52 PM  1486493540183  1486493520381     null   0      M   \n",
       "309551    2/21/17 2:56 PM  1487689054740  1487686989635     null   0      O   \n",
       "309552    2/24/17 1:02 AM  1487898231070  1487898229321     null   0      F   \n",
       "309554    2/28/17 8:14 PM  1488312966070  1488312930898     null   0      F   \n",
       "309558     3/3/17 1:58 PM  1488549572924  1488548750534     null   0      O   \n",
       "309566    3/25/17 1:41 PM  1490449427064  1490449415681     null   0      F   \n",
       "309568    3/29/17 6:04 PM  1490810845238  1490810804566      iOS   0      F   \n",
       "309569    3/20/17 7:50 PM  1490039597978  1490039540520     null   0      F   \n",
       "309570     4/7/17 8:32 PM  1491597351909  1491597293673      iOS   0      M   \n",
       "309571     4/8/17 6:54 PM  1491677871280  1491676607886      iOS   0      F   \n",
       "309576     5/2/17 2:49 PM  1493736825051  1493218347301      iOS   0      O   \n",
       "309585     4/5/17 5:31 PM  1491413682132  1491413635912      iOS   0      O   \n",
       "309589     6/5/17 1:15 PM  1496668545311  1496668525525      iOS   0      F   \n",
       "309591    5/21/17 8:08 AM  1495354477119  1495354444749      iOS   0      O   \n",
       "309594    4/20/17 6:43 PM  1492714074822  1492714047602     null   0      F   \n",
       "309595    6/26/17 1:16 AM  1498439882662  1498438933121      iOS   0      M   \n",
       "309597    6/6/17 12:50 PM  1496753451008  1496686357600      iOS   0      O   \n",
       "309598    6/9/17 12:40 AM  1496968879291  1496968837253      iOS   0      M   \n",
       "309600    6/14/17 3:08 PM  1497452982983  1497452961180      iOS   0      M   \n",
       "309608    5/21/17 7:58 AM  1495353862015  1495353833015      iOS   0      O   \n",
       "309610    5/27/17 3:26 PM  1495899166173  1495899143373      iOS   0      O   \n",
       "309615     6/7/17 4:27 AM  1496809686527  1496803601877  Android   0      M   \n",
       "309619    6/24/17 7:17 PM  1498331901482  1498331053639      iOS   0      O   \n",
       "309621   7/10/17 10:23 PM  1499725535956  1499725503437      iOS   0      O   \n",
       "\n",
       "              dateofbirth duration  \n",
       "65541    6/10/08 12:00 AM       74  \n",
       "65543     4/7/13 12:00 AM       63  \n",
       "65545   11/30/12 12:00 AM      121  \n",
       "65546    7/19/04 12:00 AM      131  \n",
       "65550     4/6/11 12:00 AM       22  \n",
       "65551    5/17/14 12:00 AM       91  \n",
       "65552    12/9/13 12:00 AM       69  \n",
       "65554    7/13/09 12:00 AM       26  \n",
       "65556    8/28/07 12:00 AM       33  \n",
       "65557    6/10/10 12:00 AM       16  \n",
       "65559     4/1/14 12:00 AM       89  \n",
       "65561   12/28/13 12:00 AM       69  \n",
       "65563    5/30/07 12:00 AM        8  \n",
       "65565                null      214  \n",
       "65566     2/3/11 12:00 AM       28  \n",
       "65567    7/29/10 12:00 AM       29  \n",
       "65568     4/3/76 12:00 AM       47  \n",
       "65569    1/15/14 12:00 AM      590  \n",
       "65570    2/20/12 12:00 AM        8  \n",
       "65571    1/20/10 12:00 AM       49  \n",
       "65572    3/30/12 12:00 AM       60  \n",
       "65573     8/6/84 12:00 AM       42  \n",
       "65574    7/20/11 12:00 AM       10  \n",
       "65575   10/29/09 12:00 AM       52  \n",
       "65576     8/8/12 12:00 AM        9  \n",
       "65577    8/31/13 12:00 AM       27  \n",
       "65579    9/17/08 12:00 AM       70  \n",
       "65583   12/30/11 12:00 AM       11  \n",
       "65586    6/28/06 12:00 AM        5  \n",
       "65587    2/20/15 12:00 AM       80  \n",
       "...                   ...      ...  \n",
       "309522    1/6/12 12:00 AM       23  \n",
       "309526    3/8/11 12:00 AM       21  \n",
       "309540   2/23/13 12:00 AM    29373  \n",
       "309542   4/11/08 12:00 AM    82658  \n",
       "309543    9/6/12 12:00 AM    21948  \n",
       "309549    2/2/13 12:00 AM     2240  \n",
       "309550   1/19/11 12:00 AM       20  \n",
       "309551   2/21/12 12:00 AM     2065  \n",
       "309552   2/25/14 12:00 AM        2  \n",
       "309554    4/3/76 12:00 AM       36  \n",
       "309558    2/5/12 12:00 AM      822  \n",
       "309566   7/28/10 12:00 AM       12  \n",
       "309568   7/11/12 12:00 AM       41  \n",
       "309569    4/3/76 12:00 AM       57  \n",
       "309570   1/12/17 12:00 AM       58  \n",
       "309571   9/24/10 12:00 AM     1264  \n",
       "309576    7/5/06 12:00 AM   518478  \n",
       "309585               null       47  \n",
       "309589  11/18/13 12:00 AM       20  \n",
       "309591  11/27/14 12:00 AM       33  \n",
       "309594               null       27  \n",
       "309595    6/1/14 12:00 AM      949  \n",
       "309597               null    67094  \n",
       "309598   1/31/15 12:00 AM       42  \n",
       "309600  12/27/11 12:00 AM       21  \n",
       "309608  11/27/14 12:00 AM       29  \n",
       "309610               null       23  \n",
       "309615   5/27/15 12:00 AM     6085  \n",
       "309619    9/7/14 12:00 AM      848  \n",
       "309621  11/26/09 12:00 AM       32  \n",
       "\n",
       "[119189 rows x 18 columns]>"
      ]
     },
     "execution_count": 5,
     "metadata": {},
     "output_type": "execute_result"
    }
   ],
   "source": [
    "df.describe"
   ]
  },
  {
   "cell_type": "code",
   "execution_count": 6,
   "metadata": {
    "collapsed": false
   },
   "outputs": [
    {
     "name": "stdout",
     "output_type": "stream",
     "text": [
      "2017\n"
     ]
    }
   ],
   "source": [
    "now = dt.date.today().year\n",
    "\n",
    "print now"
   ]
  },
  {
   "cell_type": "code",
   "execution_count": 7,
   "metadata": {
    "collapsed": false
   },
   "outputs": [
    {
     "data": {
      "text/plain": [
       "65541      6/10/08 12:00 AM\n",
       "65543       4/7/13 12:00 AM\n",
       "65545     11/30/12 12:00 AM\n",
       "65546      7/19/04 12:00 AM\n",
       "65550       4/6/11 12:00 AM\n",
       "65551      5/17/14 12:00 AM\n",
       "65552      12/9/13 12:00 AM\n",
       "65554      7/13/09 12:00 AM\n",
       "65556      8/28/07 12:00 AM\n",
       "65557      6/10/10 12:00 AM\n",
       "65559       4/1/14 12:00 AM\n",
       "65561     12/28/13 12:00 AM\n",
       "65563      5/30/07 12:00 AM\n",
       "65565       1/1/01 12:00 AM\n",
       "65566       2/3/11 12:00 AM\n",
       "65567      7/29/10 12:00 AM\n",
       "65568       4/3/76 12:00 AM\n",
       "65569      1/15/14 12:00 AM\n",
       "65570      2/20/12 12:00 AM\n",
       "65571      1/20/10 12:00 AM\n",
       "65572      3/30/12 12:00 AM\n",
       "65573       8/6/84 12:00 AM\n",
       "65574      7/20/11 12:00 AM\n",
       "65575     10/29/09 12:00 AM\n",
       "65576       8/8/12 12:00 AM\n",
       "65577      8/31/13 12:00 AM\n",
       "65579      9/17/08 12:00 AM\n",
       "65583     12/30/11 12:00 AM\n",
       "65586      6/28/06 12:00 AM\n",
       "65587      2/20/15 12:00 AM\n",
       "                ...        \n",
       "309522      1/6/12 12:00 AM\n",
       "309526      3/8/11 12:00 AM\n",
       "309540     2/23/13 12:00 AM\n",
       "309542     4/11/08 12:00 AM\n",
       "309543      9/6/12 12:00 AM\n",
       "309549      2/2/13 12:00 AM\n",
       "309550     1/19/11 12:00 AM\n",
       "309551     2/21/12 12:00 AM\n",
       "309552     2/25/14 12:00 AM\n",
       "309554      4/3/76 12:00 AM\n",
       "309558      2/5/12 12:00 AM\n",
       "309566     7/28/10 12:00 AM\n",
       "309568     7/11/12 12:00 AM\n",
       "309569      4/3/76 12:00 AM\n",
       "309570     1/12/17 12:00 AM\n",
       "309571     9/24/10 12:00 AM\n",
       "309576      7/5/06 12:00 AM\n",
       "309585      1/1/01 12:00 AM\n",
       "309589    11/18/13 12:00 AM\n",
       "309591    11/27/14 12:00 AM\n",
       "309594      1/1/01 12:00 AM\n",
       "309595      6/1/14 12:00 AM\n",
       "309597      1/1/01 12:00 AM\n",
       "309598     1/31/15 12:00 AM\n",
       "309600    12/27/11 12:00 AM\n",
       "309608    11/27/14 12:00 AM\n",
       "309610      1/1/01 12:00 AM\n",
       "309615     5/27/15 12:00 AM\n",
       "309619      9/7/14 12:00 AM\n",
       "309621    11/26/09 12:00 AM\n",
       "Name: dateofbirth, Length: 119189, dtype: object"
      ]
     },
     "execution_count": 7,
     "metadata": {},
     "output_type": "execute_result"
    }
   ],
   "source": [
    "df['dateofbirth'] = df.dateofbirth.replace('null','1/1/01 12:00 AM' )\n",
    "df['dateofbirth']"
   ]
  },
  {
   "cell_type": "code",
   "execution_count": 8,
   "metadata": {
    "collapsed": false
   },
   "outputs": [
    {
     "data": {
      "text/plain": [
       "Timestamp('1677-09-21 00:12:43.145225')"
      ]
     },
     "execution_count": 8,
     "metadata": {},
     "output_type": "execute_result"
    }
   ],
   "source": [
    "pd.Timestamp.max\n",
    "pd.Timestamp.min"
   ]
  },
  {
   "cell_type": "code",
   "execution_count": 9,
   "metadata": {
    "collapsed": false
   },
   "outputs": [],
   "source": [
    "df['dateofbirth'] = pd.to_datetime(df['dateofbirth'] ,format='%m/%d/%y %H:%M AM',errors='coerce')\n"
   ]
  },
  {
   "cell_type": "code",
   "execution_count": 10,
   "metadata": {
    "collapsed": false
   },
   "outputs": [],
   "source": [
    "df['year']=df['dateofbirth'].dt.year"
   ]
  },
  {
   "cell_type": "code",
   "execution_count": 11,
   "metadata": {
    "collapsed": false
   },
   "outputs": [],
   "source": [
    "\n",
    "df['age'] = now - df['year']"
   ]
  },
  {
   "cell_type": "code",
   "execution_count": 12,
   "metadata": {
    "collapsed": false
   },
   "outputs": [],
   "source": [
    "df = df.loc[df['age'] >= 0]"
   ]
  },
  {
   "cell_type": "markdown",
   "metadata": {
    "collapsed": false
   },
   "source": [
    "# Grouping by various fields "
   ]
  },
  {
   "cell_type": "code",
   "execution_count": null,
   "metadata": {
    "collapsed": true
   },
   "outputs": [],
   "source": []
  },
  {
   "cell_type": "code",
   "execution_count": 13,
   "metadata": {
    "collapsed": false
   },
   "outputs": [],
   "source": [
    "df_positive_age_grouped_by_gamename = (df.groupby( [ \"gamename\"] ))"
   ]
  },
  {
   "cell_type": "code",
   "execution_count": 14,
   "metadata": {
    "collapsed": false
   },
   "outputs": [
    {
     "ename": "NameError",
     "evalue": "name 'df_positive_age' is not defined",
     "output_type": "error",
     "traceback": [
      "\u001b[0;31m---------------------------------------------------------------------------\u001b[0m",
      "\u001b[0;31mNameError\u001b[0m                                 Traceback (most recent call last)",
      "\u001b[0;32m<ipython-input-14-c1207cfc9dad>\u001b[0m in \u001b[0;36m<module>\u001b[0;34m()\u001b[0m\n\u001b[0;32m----> 1\u001b[0;31m \u001b[0mdf_grouped\u001b[0m \u001b[0;34m=\u001b[0m \u001b[0mdf_positive_age\u001b[0m\u001b[0;34m.\u001b[0m\u001b[0mgroupby\u001b[0m\u001b[0;34m(\u001b[0m\u001b[0;34m[\u001b[0m\u001b[0;34m\"age\"\u001b[0m\u001b[0;34m,\u001b[0m\u001b[0;34m\"gamename\"\u001b[0m\u001b[0;34m]\u001b[0m\u001b[0;34m)\u001b[0m\u001b[0;34m.\u001b[0m\u001b[0mmean\u001b[0m\u001b[0;34m(\u001b[0m\u001b[0;34m)\u001b[0m\u001b[0;34m\u001b[0m\u001b[0m\n\u001b[0m\u001b[1;32m      2\u001b[0m \u001b[0mdf_grouped\u001b[0m\u001b[0;34m.\u001b[0m\u001b[0mplot\u001b[0m\u001b[0;34m(\u001b[0m\u001b[0;34m)\u001b[0m\u001b[0;34m\u001b[0m\u001b[0m\n",
      "\u001b[0;31mNameError\u001b[0m: name 'df_positive_age' is not defined"
     ]
    }
   ],
   "source": [
    "df_grouped = df_positive_age.groupby([\"age\",\"gamename\"]).mean()\n",
    "df_grouped.plot()"
   ]
  },
  {
   "cell_type": "code",
   "execution_count": null,
   "metadata": {
    "collapsed": false
   },
   "outputs": [],
   "source": [
    "df_1 = df['age']"
   ]
  },
  {
   "cell_type": "markdown",
   "metadata": {},
   "source": [
    "## Let's see the distribution of activities by Games"
   ]
  },
  {
   "cell_type": "code",
   "execution_count": 15,
   "metadata": {
    "collapsed": false
   },
   "outputs": [
    {
     "name": "stderr",
     "output_type": "stream",
     "text": [
      "/home/miti/.local/lib/python2.7/site-packages/pandas/plotting/_core.py:179: UserWarning: 'colors' is being deprecated. Please use 'color'instead of 'colors'\n",
      "  warnings.warn((\"'colors' is being deprecated. Please use 'color'\"\n"
     ]
    },
    {
     "data": {
      "image/png": "[encoded data removed]",
      "text/plain": [
       "<matplotlib.figure.Figure at 0x7fc91fa9e690>"
      ]
     },
     "metadata": {},
     "output_type": "display_data"
    }
   ],
   "source": [
    "colors = ['yellowgreen', 'gold', 'lightskyblue', 'lightcoral','red','green','blue','orange','white','brown']\n",
    "df['gamename'].value_counts().plot(kind='bar',stacked=True, title='Distribution of activites by Games',colors=['red'])\n",
    "plt.show()"
   ]
  },
  {
   "cell_type": "markdown",
   "metadata": {},
   "source": [
    "### This shows us that the maximum played game is Lagoon > Bowling > Farming > Space Cows"
   ]
  },
  {
   "cell_type": "markdown",
   "metadata": {
    "collapsed": true
   },
   "source": [
    "## Distribution of activities per Age"
   ]
  },
  {
   "cell_type": "code",
   "execution_count": 16,
   "metadata": {
    "collapsed": false
   },
   "outputs": [
    {
     "data": {
      "image/png": "[encoded data removed]",
      "text/plain": [
       "<matplotlib.figure.Figure at 0x7fc91faa9290>"
      ]
     },
     "metadata": {},
     "output_type": "display_data"
    }
   ],
   "source": [
    "colors = ['yellowgreen', 'gold', 'lightskyblue', 'lightcoral','red','green','blue','orange','white','brown']\n",
    "df['age'].value_counts().plot(kind='pie',title='Distribution of activites by Age',colors=colors)\n",
    "plt.show()"
   ]
  },
  {
   "cell_type": "markdown",
   "metadata": {},
   "source": [
    "### This shows that the age range of our maximum players belong to is 4-7"
   ]
  },
  {
   "cell_type": "markdown",
   "metadata": {},
   "source": [
    "## Distribution of type of Word (Word/Letter)"
   ]
  },
  {
   "cell_type": "code",
   "execution_count": 17,
   "metadata": {
    "collapsed": false
   },
   "outputs": [
    {
     "data": {
      "image/png": "[encoded data removed]",
      "text/plain": [
       "<matplotlib.figure.Figure at 0x7fc93420c190>"
      ]
     },
     "metadata": {},
     "output_type": "display_data"
    }
   ],
   "source": [
    "colors = ['yellowgreen', 'gold', 'lightskyblue', 'lightcoral','red','green','blue','orange','white','brown']\n",
    "df['wordtype'].value_counts().plot(kind='pie',title='Distribution of activites by Word Type',colors=colors)\n",
    "plt.show()"
   ]
  },
  {
   "cell_type": "markdown",
   "metadata": {},
   "source": [
    "### This show that approximately 75% of activities played are for the wordtype as 'Word' and 25% as 'Letter'"
   ]
  },
  {
   "cell_type": "code",
   "execution_count": 18,
   "metadata": {
    "collapsed": false
   },
   "outputs": [
    {
     "data": {
      "image/png": "[encoded data removed]",
      "text/plain": [
       "<matplotlib.figure.Figure at 0x7fc91faa9110>"
      ]
     },
     "metadata": {},
     "output_type": "display_data"
    }
   ],
   "source": [
    "df['gender'].value_counts().plot(kind='pie',title='Distribution of activites by gender',colors=colors)\n",
    "plt.show()"
   ]
  },
  {
   "cell_type": "markdown",
   "metadata": {},
   "source": [
    "## Let's calculate average duration i.e. time for which each activity is carried out"
   ]
  },
  {
   "cell_type": "code",
   "execution_count": 19,
   "metadata": {
    "collapsed": false
   },
   "outputs": [
    {
     "name": "stderr",
     "output_type": "stream",
     "text": [
      "/home/miti/.local/lib/python2.7/site-packages/ipykernel_launcher.py:1: SettingWithCopyWarning: \n",
      "A value is trying to be set on a copy of a slice from a DataFrame.\n",
      "Try using .loc[row_indexer,col_indexer] = value instead\n",
      "\n",
      "See the caveats in the documentation: http://pandas.pydata.org/pandas-docs/stable/indexing.html#indexing-view-versus-copy\n",
      "  \"\"\"Entry point for launching an IPython kernel.\n"
     ]
    }
   ],
   "source": [
    "df['duration'] = df['duration'].replace('null','0')"
   ]
  },
  {
   "cell_type": "code",
   "execution_count": 20,
   "metadata": {
    "collapsed": false
   },
   "outputs": [
    {
     "name": "stderr",
     "output_type": "stream",
     "text": [
      "/home/miti/.local/lib/python2.7/site-packages/ipykernel_launcher.py:1: SettingWithCopyWarning: \n",
      "A value is trying to be set on a copy of a slice from a DataFrame.\n",
      "Try using .loc[row_indexer,col_indexer] = value instead\n",
      "\n",
      "See the caveats in the documentation: http://pandas.pydata.org/pandas-docs/stable/indexing.html#indexing-view-versus-copy\n",
      "  \"\"\"Entry point for launching an IPython kernel.\n"
     ]
    }
   ],
   "source": [
    "df['duration'] = df['duration'].astype(int)/60"
   ]
  },
  {
   "cell_type": "markdown",
   "metadata": {},
   "source": [
    "### Hence the Average duration of each activity is 9.2768 minutes"
   ]
  },
  {
   "cell_type": "code",
   "execution_count": null,
   "metadata": {
    "collapsed": false
   },
   "outputs": [],
   "source": [
    "df.info()"
   ]
  },
  {
   "cell_type": "code",
   "execution_count": 21,
   "metadata": {
    "collapsed": false
   },
   "outputs": [
    {
     "name": "stderr",
     "output_type": "stream",
     "text": [
      "/home/miti/.local/lib/python2.7/site-packages/ipykernel_launcher.py:1: SettingWithCopyWarning: \n",
      "A value is trying to be set on a copy of a slice from a DataFrame.\n",
      "Try using .loc[row_indexer,col_indexer] = value instead\n",
      "\n",
      "See the caveats in the documentation: http://pandas.pydata.org/pandas-docs/stable/indexing.html#indexing-view-versus-copy\n",
      "  \"\"\"Entry point for launching an IPython kernel.\n"
     ]
    }
   ],
   "source": [
    "df['platform'] = df['platform'].replace('null','Not Known')"
   ]
  },
  {
   "cell_type": "code",
   "execution_count": null,
   "metadata": {
    "collapsed": false
   },
   "outputs": [],
   "source": []
  },
  {
   "cell_type": "code",
   "execution_count": 22,
   "metadata": {
    "collapsed": false
   },
   "outputs": [
    {
     "data": {
      "image/png": "[encoded data removed]",
      "text/plain": [
       "<matplotlib.figure.Figure at 0x7fc91faa58d0>"
      ]
     },
     "metadata": {},
     "output_type": "display_data"
    }
   ],
   "source": [
    "df['platform'].value_counts().plot(kind='pie',title='Distribution of activites by platform',colors=colors)\n",
    "plt.show()"
   ]
  },
  {
   "cell_type": "markdown",
   "metadata": {},
   "source": [
    "### Hence we know maximum of our traffic is through iOS apps or is not known. Android Play Store is where we have a large scope to increase our customer base"
   ]
  },
  {
   "cell_type": "code",
   "execution_count": 23,
   "metadata": {
    "collapsed": false
   },
   "outputs": [
    {
     "name": "stderr",
     "output_type": "stream",
     "text": [
      "/home/miti/.local/lib/python2.7/site-packages/ipykernel_launcher.py:1: SettingWithCopyWarning: \n",
      "A value is trying to be set on a copy of a slice from a DataFrame.\n",
      "Try using .loc[row_indexer,col_indexer] = value instead\n",
      "\n",
      "See the caveats in the documentation: http://pandas.pydata.org/pandas-docs/stable/indexing.html#indexing-view-versus-copy\n",
      "  \"\"\"Entry point for launching an IPython kernel.\n"
     ]
    }
   ],
   "source": [
    "df['gamescore'] = df['gamescore'].replace('null','0')"
   ]
  },
  {
   "cell_type": "code",
   "execution_count": 27,
   "metadata": {
    "collapsed": false
   },
   "outputs": [
    {
     "data": {
      "image/png": "[encoded data removed]",
      "text/plain": [
       "<matplotlib.figure.Figure at 0x7fc91fb8d890>"
      ]
     },
     "metadata": {},
     "output_type": "display_data"
    }
   ],
   "source": [
    "df['gamescore'].value_counts().plot(kind='pie',title='Distribution of activites by game score',colors=colors)\n",
    "plt.show()"
   ]
  },
  {
   "cell_type": "code",
   "execution_count": 25,
   "metadata": {
    "collapsed": false
   },
   "outputs": [
    {
     "name": "stderr",
     "output_type": "stream",
     "text": [
      "/home/miti/.local/lib/python2.7/site-packages/ipykernel_launcher.py:1: SettingWithCopyWarning: \n",
      "A value is trying to be set on a copy of a slice from a DataFrame.\n",
      "Try using .loc[row_indexer,col_indexer] = value instead\n",
      "\n",
      "See the caveats in the documentation: http://pandas.pydata.org/pandas-docs/stable/indexing.html#indexing-view-versus-copy\n",
      "  \"\"\"Entry point for launching an IPython kernel.\n"
     ]
    }
   ],
   "source": [
    "df['createdat'] = pd.to_datetime(df['createdat'])"
   ]
  },
  {
   "cell_type": "code",
   "execution_count": null,
   "metadata": {
    "collapsed": false
   },
   "outputs": [],
   "source": [
    "#df.index = df['createdat']\n",
    "#del df['createdat']\n",
    "df"
   ]
  },
  {
   "cell_type": "code",
   "execution_count": null,
   "metadata": {
    "collapsed": false
   },
   "outputs": [],
   "source": [
    "df['2015']"
   ]
  },
  {
   "cell_type": "markdown",
   "metadata": {},
   "source": [
    "### Hence no data before 2016"
   ]
  },
  {
   "cell_type": "code",
   "execution_count": null,
   "metadata": {
    "collapsed": false
   },
   "outputs": [],
   "source": [
    "df['2016']"
   ]
  },
  {
   "cell_type": "code",
   "execution_count": null,
   "metadata": {
    "collapsed": false
   },
   "outputs": [],
   "source": [
    "df['2017']"
   ]
  },
  {
   "cell_type": "markdown",
   "metadata": {},
   "source": [
    "### Hence we now know our maximum activity traffic is from the year 2017"
   ]
  },
  {
   "cell_type": "code",
   "execution_count": 26,
   "metadata": {
    "collapsed": false
   },
   "outputs": [
    {
     "ename": "IOError",
     "evalue": "File DataTest1.csv does not exist",
     "output_type": "error",
     "traceback": [
      "\u001b[0;31m---------------------------------------------------------------------------\u001b[0m",
      "\u001b[0;31mIOError\u001b[0m                                   Traceback (most recent call last)",
      "\u001b[0;32m<ipython-input-26-d5f4976cd52b>\u001b[0m in \u001b[0;36m<module>\u001b[0;34m()\u001b[0m\n\u001b[1;32m      1\u001b[0m \u001b[0;32mfrom\u001b[0m \u001b[0mpandas\u001b[0m \u001b[0;32mimport\u001b[0m \u001b[0mSeries\u001b[0m\u001b[0;34m\u001b[0m\u001b[0m\n\u001b[1;32m      2\u001b[0m \u001b[0;32mfrom\u001b[0m \u001b[0mmatplotlib\u001b[0m \u001b[0;32mimport\u001b[0m \u001b[0mpyplot\u001b[0m\u001b[0;34m\u001b[0m\u001b[0m\n\u001b[0;32m----> 3\u001b[0;31m \u001b[0mseries\u001b[0m \u001b[0;34m=\u001b[0m \u001b[0mSeries\u001b[0m\u001b[0;34m.\u001b[0m\u001b[0mfrom_csv\u001b[0m\u001b[0;34m(\u001b[0m\u001b[0;34m'DataTest1.csv'\u001b[0m\u001b[0;34m,\u001b[0m \u001b[0mheader\u001b[0m\u001b[0;34m=\u001b[0m\u001b[0;36m0\u001b[0m\u001b[0;34m)\u001b[0m\u001b[0;34m\u001b[0m\u001b[0m\n\u001b[0m\u001b[1;32m      4\u001b[0m \u001b[0mseries\u001b[0m\u001b[0;34m.\u001b[0m\u001b[0mplot\u001b[0m\u001b[0;34m(\u001b[0m\u001b[0;34m)\u001b[0m\u001b[0;34m\u001b[0m\u001b[0m\n\u001b[1;32m      5\u001b[0m \u001b[0mpyplot\u001b[0m\u001b[0;34m.\u001b[0m\u001b[0mshow\u001b[0m\u001b[0;34m(\u001b[0m\u001b[0;34m)\u001b[0m\u001b[0;34m\u001b[0m\u001b[0m\n",
      "\u001b[0;32m/home/miti/.local/lib/python2.7/site-packages/pandas/core/series.pyc\u001b[0m in \u001b[0;36mfrom_csv\u001b[0;34m(cls, path, sep, parse_dates, header, index_col, encoding, infer_datetime_format)\u001b[0m\n\u001b[1;32m   2637\u001b[0m                                 \u001b[0msep\u001b[0m\u001b[0;34m=\u001b[0m\u001b[0msep\u001b[0m\u001b[0;34m,\u001b[0m \u001b[0mparse_dates\u001b[0m\u001b[0;34m=\u001b[0m\u001b[0mparse_dates\u001b[0m\u001b[0;34m,\u001b[0m\u001b[0;34m\u001b[0m\u001b[0m\n\u001b[1;32m   2638\u001b[0m                                 \u001b[0mencoding\u001b[0m\u001b[0;34m=\u001b[0m\u001b[0mencoding\u001b[0m\u001b[0;34m,\u001b[0m\u001b[0;34m\u001b[0m\u001b[0m\n\u001b[0;32m-> 2639\u001b[0;31m                                 infer_datetime_format=infer_datetime_format)\n\u001b[0m\u001b[1;32m   2640\u001b[0m         \u001b[0mresult\u001b[0m \u001b[0;34m=\u001b[0m \u001b[0mdf\u001b[0m\u001b[0;34m.\u001b[0m\u001b[0miloc\u001b[0m\u001b[0;34m[\u001b[0m\u001b[0;34m:\u001b[0m\u001b[0;34m,\u001b[0m \u001b[0;36m0\u001b[0m\u001b[0;34m]\u001b[0m\u001b[0;34m\u001b[0m\u001b[0m\n\u001b[1;32m   2641\u001b[0m         \u001b[0;32mif\u001b[0m \u001b[0mheader\u001b[0m \u001b[0;32mis\u001b[0m \u001b[0mNone\u001b[0m\u001b[0;34m:\u001b[0m\u001b[0;34m\u001b[0m\u001b[0m\n",
      "\u001b[0;32m/home/miti/.local/lib/python2.7/site-packages/pandas/core/frame.pyc\u001b[0m in \u001b[0;36mfrom_csv\u001b[0;34m(cls, path, header, sep, index_col, parse_dates, encoding, tupleize_cols, infer_datetime_format)\u001b[0m\n\u001b[1;32m   1249\u001b[0m                           \u001b[0mparse_dates\u001b[0m\u001b[0;34m=\u001b[0m\u001b[0mparse_dates\u001b[0m\u001b[0;34m,\u001b[0m \u001b[0mindex_col\u001b[0m\u001b[0;34m=\u001b[0m\u001b[0mindex_col\u001b[0m\u001b[0;34m,\u001b[0m\u001b[0;34m\u001b[0m\u001b[0m\n\u001b[1;32m   1250\u001b[0m                           \u001b[0mencoding\u001b[0m\u001b[0;34m=\u001b[0m\u001b[0mencoding\u001b[0m\u001b[0;34m,\u001b[0m \u001b[0mtupleize_cols\u001b[0m\u001b[0;34m=\u001b[0m\u001b[0mtupleize_cols\u001b[0m\u001b[0;34m,\u001b[0m\u001b[0;34m\u001b[0m\u001b[0m\n\u001b[0;32m-> 1251\u001b[0;31m                           infer_datetime_format=infer_datetime_format)\n\u001b[0m\u001b[1;32m   1252\u001b[0m \u001b[0;34m\u001b[0m\u001b[0m\n\u001b[1;32m   1253\u001b[0m     \u001b[0;32mdef\u001b[0m \u001b[0mto_sparse\u001b[0m\u001b[0;34m(\u001b[0m\u001b[0mself\u001b[0m\u001b[0;34m,\u001b[0m \u001b[0mfill_value\u001b[0m\u001b[0;34m=\u001b[0m\u001b[0mNone\u001b[0m\u001b[0;34m,\u001b[0m \u001b[0mkind\u001b[0m\u001b[0;34m=\u001b[0m\u001b[0;34m'block'\u001b[0m\u001b[0;34m)\u001b[0m\u001b[0;34m:\u001b[0m\u001b[0;34m\u001b[0m\u001b[0m\n",
      "\u001b[0;32m/home/miti/.local/lib/python2.7/site-packages/pandas/io/parsers.pyc\u001b[0m in \u001b[0;36mparser_f\u001b[0;34m(filepath_or_buffer, sep, delimiter, header, names, index_col, usecols, squeeze, prefix, mangle_dupe_cols, dtype, engine, converters, true_values, false_values, skipinitialspace, skiprows, nrows, na_values, keep_default_na, na_filter, verbose, skip_blank_lines, parse_dates, infer_datetime_format, keep_date_col, date_parser, dayfirst, iterator, chunksize, compression, thousands, decimal, lineterminator, quotechar, quoting, escapechar, comment, encoding, dialect, tupleize_cols, error_bad_lines, warn_bad_lines, skipfooter, skip_footer, doublequote, delim_whitespace, as_recarray, compact_ints, use_unsigned, low_memory, buffer_lines, memory_map, float_precision)\u001b[0m\n\u001b[1;32m    653\u001b[0m                     skip_blank_lines=skip_blank_lines)\n\u001b[1;32m    654\u001b[0m \u001b[0;34m\u001b[0m\u001b[0m\n\u001b[0;32m--> 655\u001b[0;31m         \u001b[0;32mreturn\u001b[0m \u001b[0m_read\u001b[0m\u001b[0;34m(\u001b[0m\u001b[0mfilepath_or_buffer\u001b[0m\u001b[0;34m,\u001b[0m \u001b[0mkwds\u001b[0m\u001b[0;34m)\u001b[0m\u001b[0;34m\u001b[0m\u001b[0m\n\u001b[0m\u001b[1;32m    656\u001b[0m \u001b[0;34m\u001b[0m\u001b[0m\n\u001b[1;32m    657\u001b[0m     \u001b[0mparser_f\u001b[0m\u001b[0;34m.\u001b[0m\u001b[0m__name__\u001b[0m \u001b[0;34m=\u001b[0m \u001b[0mname\u001b[0m\u001b[0;34m\u001b[0m\u001b[0m\n",
      "\u001b[0;32m/home/miti/.local/lib/python2.7/site-packages/pandas/io/parsers.pyc\u001b[0m in \u001b[0;36m_read\u001b[0;34m(filepath_or_buffer, kwds)\u001b[0m\n\u001b[1;32m    403\u001b[0m \u001b[0;34m\u001b[0m\u001b[0m\n\u001b[1;32m    404\u001b[0m     \u001b[0;31m# Create the parser.\u001b[0m\u001b[0;34m\u001b[0m\u001b[0;34m\u001b[0m\u001b[0m\n\u001b[0;32m--> 405\u001b[0;31m     \u001b[0mparser\u001b[0m \u001b[0;34m=\u001b[0m \u001b[0mTextFileReader\u001b[0m\u001b[0;34m(\u001b[0m\u001b[0mfilepath_or_buffer\u001b[0m\u001b[0;34m,\u001b[0m \u001b[0;34m**\u001b[0m\u001b[0mkwds\u001b[0m\u001b[0;34m)\u001b[0m\u001b[0;34m\u001b[0m\u001b[0m\n\u001b[0m\u001b[1;32m    406\u001b[0m \u001b[0;34m\u001b[0m\u001b[0m\n\u001b[1;32m    407\u001b[0m     \u001b[0;32mif\u001b[0m \u001b[0mchunksize\u001b[0m \u001b[0;32mor\u001b[0m \u001b[0miterator\u001b[0m\u001b[0;34m:\u001b[0m\u001b[0;34m\u001b[0m\u001b[0m\n",
      "\u001b[0;32m/home/miti/.local/lib/python2.7/site-packages/pandas/io/parsers.pyc\u001b[0m in \u001b[0;36m__init__\u001b[0;34m(self, f, engine, **kwds)\u001b[0m\n\u001b[1;32m    762\u001b[0m             \u001b[0mself\u001b[0m\u001b[0;34m.\u001b[0m\u001b[0moptions\u001b[0m\u001b[0;34m[\u001b[0m\u001b[0;34m'has_index_names'\u001b[0m\u001b[0;34m]\u001b[0m \u001b[0;34m=\u001b[0m \u001b[0mkwds\u001b[0m\u001b[0;34m[\u001b[0m\u001b[0;34m'has_index_names'\u001b[0m\u001b[0;34m]\u001b[0m\u001b[0;34m\u001b[0m\u001b[0m\n\u001b[1;32m    763\u001b[0m \u001b[0;34m\u001b[0m\u001b[0m\n\u001b[0;32m--> 764\u001b[0;31m         \u001b[0mself\u001b[0m\u001b[0;34m.\u001b[0m\u001b[0m_make_engine\u001b[0m\u001b[0;34m(\u001b[0m\u001b[0mself\u001b[0m\u001b[0;34m.\u001b[0m\u001b[0mengine\u001b[0m\u001b[0;34m)\u001b[0m\u001b[0;34m\u001b[0m\u001b[0m\n\u001b[0m\u001b[1;32m    765\u001b[0m \u001b[0;34m\u001b[0m\u001b[0m\n\u001b[1;32m    766\u001b[0m     \u001b[0;32mdef\u001b[0m \u001b[0mclose\u001b[0m\u001b[0;34m(\u001b[0m\u001b[0mself\u001b[0m\u001b[0;34m)\u001b[0m\u001b[0;34m:\u001b[0m\u001b[0;34m\u001b[0m\u001b[0m\n",
      "\u001b[0;32m/home/miti/.local/lib/python2.7/site-packages/pandas/io/parsers.pyc\u001b[0m in \u001b[0;36m_make_engine\u001b[0;34m(self, engine)\u001b[0m\n\u001b[1;32m    983\u001b[0m     \u001b[0;32mdef\u001b[0m \u001b[0m_make_engine\u001b[0m\u001b[0;34m(\u001b[0m\u001b[0mself\u001b[0m\u001b[0;34m,\u001b[0m \u001b[0mengine\u001b[0m\u001b[0;34m=\u001b[0m\u001b[0;34m'c'\u001b[0m\u001b[0;34m)\u001b[0m\u001b[0;34m:\u001b[0m\u001b[0;34m\u001b[0m\u001b[0m\n\u001b[1;32m    984\u001b[0m         \u001b[0;32mif\u001b[0m \u001b[0mengine\u001b[0m \u001b[0;34m==\u001b[0m \u001b[0;34m'c'\u001b[0m\u001b[0;34m:\u001b[0m\u001b[0;34m\u001b[0m\u001b[0m\n\u001b[0;32m--> 985\u001b[0;31m             \u001b[0mself\u001b[0m\u001b[0;34m.\u001b[0m\u001b[0m_engine\u001b[0m \u001b[0;34m=\u001b[0m \u001b[0mCParserWrapper\u001b[0m\u001b[0;34m(\u001b[0m\u001b[0mself\u001b[0m\u001b[0;34m.\u001b[0m\u001b[0mf\u001b[0m\u001b[0;34m,\u001b[0m \u001b[0;34m**\u001b[0m\u001b[0mself\u001b[0m\u001b[0;34m.\u001b[0m\u001b[0moptions\u001b[0m\u001b[0;34m)\u001b[0m\u001b[0;34m\u001b[0m\u001b[0m\n\u001b[0m\u001b[1;32m    986\u001b[0m         \u001b[0;32melse\u001b[0m\u001b[0;34m:\u001b[0m\u001b[0;34m\u001b[0m\u001b[0m\n\u001b[1;32m    987\u001b[0m             \u001b[0;32mif\u001b[0m \u001b[0mengine\u001b[0m \u001b[0;34m==\u001b[0m \u001b[0;34m'python'\u001b[0m\u001b[0;34m:\u001b[0m\u001b[0;34m\u001b[0m\u001b[0m\n",
      "\u001b[0;32m/home/miti/.local/lib/python2.7/site-packages/pandas/io/parsers.pyc\u001b[0m in \u001b[0;36m__init__\u001b[0;34m(self, src, **kwds)\u001b[0m\n\u001b[1;32m   1603\u001b[0m         \u001b[0mkwds\u001b[0m\u001b[0;34m[\u001b[0m\u001b[0;34m'allow_leading_cols'\u001b[0m\u001b[0;34m]\u001b[0m \u001b[0;34m=\u001b[0m \u001b[0mself\u001b[0m\u001b[0;34m.\u001b[0m\u001b[0mindex_col\u001b[0m \u001b[0;32mis\u001b[0m \u001b[0;32mnot\u001b[0m \u001b[0mFalse\u001b[0m\u001b[0;34m\u001b[0m\u001b[0m\n\u001b[1;32m   1604\u001b[0m \u001b[0;34m\u001b[0m\u001b[0m\n\u001b[0;32m-> 1605\u001b[0;31m         \u001b[0mself\u001b[0m\u001b[0;34m.\u001b[0m\u001b[0m_reader\u001b[0m \u001b[0;34m=\u001b[0m \u001b[0mparsers\u001b[0m\u001b[0;34m.\u001b[0m\u001b[0mTextReader\u001b[0m\u001b[0;34m(\u001b[0m\u001b[0msrc\u001b[0m\u001b[0;34m,\u001b[0m \u001b[0;34m**\u001b[0m\u001b[0mkwds\u001b[0m\u001b[0;34m)\u001b[0m\u001b[0;34m\u001b[0m\u001b[0m\n\u001b[0m\u001b[1;32m   1606\u001b[0m \u001b[0;34m\u001b[0m\u001b[0m\n\u001b[1;32m   1607\u001b[0m         \u001b[0;31m# XXX\u001b[0m\u001b[0;34m\u001b[0m\u001b[0;34m\u001b[0m\u001b[0m\n",
      "\u001b[0;32mpandas/_libs/parsers.pyx\u001b[0m in \u001b[0;36mpandas._libs.parsers.TextReader.__cinit__ (pandas/_libs/parsers.c:4209)\u001b[0;34m()\u001b[0m\n",
      "\u001b[0;32mpandas/_libs/parsers.pyx\u001b[0m in \u001b[0;36mpandas._libs.parsers.TextReader._setup_parser_source (pandas/_libs/parsers.c:8873)\u001b[0;34m()\u001b[0m\n",
      "\u001b[0;31mIOError\u001b[0m: File DataTest1.csv does not exist"
     ]
    }
   ],
   "source": [
    "from pandas import Series\n",
    "from matplotlib import pyplot\n",
    "series = Series.from_csv('DataTest1.csv', header=0)\n",
    "series.plot()\n",
    "pyplot.show()"
   ]
  },
  {
   "cell_type": "code",
   "execution_count": null,
   "metadata": {
    "collapsed": true
   },
   "outputs": [],
   "source": []
  }
 ],
 "metadata": {
  "kernelspec": {
   "display_name": "Python 3",
   "language": "python",
   "name": "python3"
  },
  "language_info": {
   "codemirror_mode": {
    "name": "ipython",
    "version": 2
   },
   "file_extension": ".py",
   "mimetype": "text/x-python",
   "name": "python",
   "nbconvert_exporter": "python",
   "pygments_lexer": "ipython2",
   "version": "2.7.13"
  }
 },
 "nbformat": 4,
 "nbformat_minor": 2
}
