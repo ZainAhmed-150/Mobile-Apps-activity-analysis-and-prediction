{
 "cells": [
  {
   "cell_type": "code",
   "execution_count": 11,
   "metadata": {
    "collapsed": false
   },
   "outputs": [
    {
     "data": {
      "text/html": [
       "<div>\n",
       "<style>\n",
       "    .dataframe thead tr:only-child th {\n",
       "        text-align: right;\n",
       "    }\n",
       "\n",
       "    .dataframe thead th {\n",
       "        text-align: left;\n",
       "    }\n",
       "\n",
       "    .dataframe tbody tr th {\n",
       "        vertical-align: top;\n",
       "    }\n",
       "</style>\n",
       "<table border=\"1\" class=\"dataframe\">\n",
       "  <thead>\n",
       "    <tr style=\"text-align: right;\">\n",
       "      <th></th>\n",
       "      <th>childid</th>\n",
       "      <th>session_id</th>\n",
       "      <th>createdat</th>\n",
       "      <th>gamename</th>\n",
       "      <th>duration</th>\n",
       "      <th>gender</th>\n",
       "      <th>age</th>\n",
       "      <th>wordtype</th>\n",
       "      <th>platform</th>\n",
       "      <th>gamescore</th>\n",
       "      <th>minutes_since_last_interval</th>\n",
       "      <th>new_event_boundary</th>\n",
       "    </tr>\n",
       "  </thead>\n",
       "  <tbody>\n",
       "    <tr>\n",
       "      <th>0</th>\n",
       "      <td>1004</td>\n",
       "      <td>0</td>\n",
       "      <td>2016-11-07 20:34:00</td>\n",
       "      <td>Lagoon</td>\n",
       "      <td>47</td>\n",
       "      <td>F</td>\n",
       "      <td>19</td>\n",
       "      <td>WORD</td>\n",
       "      <td>Not Known</td>\n",
       "      <td>1</td>\n",
       "      <td>NaN</td>\n",
       "      <td>0</td>\n",
       "    </tr>\n",
       "    <tr>\n",
       "      <th>1</th>\n",
       "      <td>1005</td>\n",
       "      <td>0</td>\n",
       "      <td>2016-11-07 20:52:00</td>\n",
       "      <td>Lagoon</td>\n",
       "      <td>7</td>\n",
       "      <td>F</td>\n",
       "      <td>7</td>\n",
       "      <td>WORD</td>\n",
       "      <td>Not Known</td>\n",
       "      <td>1</td>\n",
       "      <td>NaN</td>\n",
       "      <td>0</td>\n",
       "    </tr>\n",
       "    <tr>\n",
       "      <th>2</th>\n",
       "      <td>1005</td>\n",
       "      <td>0</td>\n",
       "      <td>2016-11-07 20:53:00</td>\n",
       "      <td>Lagoon</td>\n",
       "      <td>0</td>\n",
       "      <td>F</td>\n",
       "      <td>7</td>\n",
       "      <td>WORD</td>\n",
       "      <td>Not Known</td>\n",
       "      <td>1</td>\n",
       "      <td>1.0</td>\n",
       "      <td>0</td>\n",
       "    </tr>\n",
       "    <tr>\n",
       "      <th>3</th>\n",
       "      <td>1005</td>\n",
       "      <td>0</td>\n",
       "      <td>2016-11-07 20:54:00</td>\n",
       "      <td>Lagoon</td>\n",
       "      <td>0</td>\n",
       "      <td>F</td>\n",
       "      <td>7</td>\n",
       "      <td>WORD</td>\n",
       "      <td>Not Known</td>\n",
       "      <td>1</td>\n",
       "      <td>1.0</td>\n",
       "      <td>0</td>\n",
       "    </tr>\n",
       "    <tr>\n",
       "      <th>4</th>\n",
       "      <td>1010</td>\n",
       "      <td>0</td>\n",
       "      <td>2016-11-08 00:45:00</td>\n",
       "      <td>Bubbles</td>\n",
       "      <td>70</td>\n",
       "      <td>F</td>\n",
       "      <td>4</td>\n",
       "      <td>WORD</td>\n",
       "      <td>Not Known</td>\n",
       "      <td>1</td>\n",
       "      <td>NaN</td>\n",
       "      <td>0</td>\n",
       "    </tr>\n",
       "  </tbody>\n",
       "</table>\n",
       "</div>"
      ],
      "text/plain": [
       "   childid  session_id            createdat gamename  duration gender  age  \\\n",
       "0     1004           0  2016-11-07 20:34:00   Lagoon        47      F   19   \n",
       "1     1005           0  2016-11-07 20:52:00   Lagoon         7      F    7   \n",
       "2     1005           0  2016-11-07 20:53:00   Lagoon         0      F    7   \n",
       "3     1005           0  2016-11-07 20:54:00   Lagoon         0      F    7   \n",
       "4     1010           0  2016-11-08 00:45:00  Bubbles        70      F    4   \n",
       "\n",
       "  wordtype   platform  gamescore  minutes_since_last_interval  \\\n",
       "0     WORD  Not Known          1                          NaN   \n",
       "1     WORD  Not Known          1                          NaN   \n",
       "2     WORD  Not Known          1                          1.0   \n",
       "3     WORD  Not Known          1                          1.0   \n",
       "4     WORD  Not Known          1                          NaN   \n",
       "\n",
       "   new_event_boundary  \n",
       "0                   0  \n",
       "1                   0  \n",
       "2                   0  \n",
       "3                   0  \n",
       "4                   0  "
      ]
     },
     "execution_count": 11,
     "metadata": {},
     "output_type": "execute_result"
    }
   ],
   "source": [
    "import utils\n",
    "import pandas as pd\n",
    "import datetime as dt\n",
    "import pprint\n",
    "import matplotlib.pyplot as plt\n",
    "from sklearn import tree, model_selection\n",
    "\n",
    "\n",
    "df = pd.read_csv(\"Sessionized_SquarePanda.csv\", error_bad_lines=False)\n",
    "df.head()\n"
   ]
  },
  {
   "cell_type": "code",
   "execution_count": 12,
   "metadata": {
    "collapsed": false
   },
   "outputs": [
    {
     "data": {
      "text/html": [
       "<div>\n",
       "<style>\n",
       "    .dataframe thead tr:only-child th {\n",
       "        text-align: right;\n",
       "    }\n",
       "\n",
       "    .dataframe thead th {\n",
       "        text-align: left;\n",
       "    }\n",
       "\n",
       "    .dataframe tbody tr th {\n",
       "        vertical-align: top;\n",
       "    }\n",
       "</style>\n",
       "<table border=\"1\" class=\"dataframe\">\n",
       "  <thead>\n",
       "    <tr style=\"text-align: right;\">\n",
       "      <th></th>\n",
       "      <th>session_id</th>\n",
       "      <th>createdat</th>\n",
       "      <th>gamename</th>\n",
       "      <th>duration</th>\n",
       "      <th>gender</th>\n",
       "      <th>age</th>\n",
       "      <th>wordtype</th>\n",
       "      <th>platform</th>\n",
       "      <th>gamescore</th>\n",
       "      <th>minutes_since_last_interval</th>\n",
       "      <th>new_event_boundary</th>\n",
       "    </tr>\n",
       "    <tr>\n",
       "      <th>childid</th>\n",
       "      <th></th>\n",
       "      <th></th>\n",
       "      <th></th>\n",
       "      <th></th>\n",
       "      <th></th>\n",
       "      <th></th>\n",
       "      <th></th>\n",
       "      <th></th>\n",
       "      <th></th>\n",
       "      <th></th>\n",
       "      <th></th>\n",
       "    </tr>\n",
       "  </thead>\n",
       "  <tbody>\n",
       "    <tr>\n",
       "      <th>183</th>\n",
       "      <td>3</td>\n",
       "      <td>2017-01-02 18:54:00</td>\n",
       "      <td>Lagoon</td>\n",
       "      <td>47</td>\n",
       "      <td>F</td>\n",
       "      <td>5</td>\n",
       "      <td>WORD</td>\n",
       "      <td>Not Known</td>\n",
       "      <td>1</td>\n",
       "      <td>8.0</td>\n",
       "      <td>0</td>\n",
       "    </tr>\n",
       "    <tr>\n",
       "      <th>188</th>\n",
       "      <td>2</td>\n",
       "      <td>2017-01-30 06:26:00</td>\n",
       "      <td>Bowling</td>\n",
       "      <td>158</td>\n",
       "      <td>M</td>\n",
       "      <td>5</td>\n",
       "      <td>WORD</td>\n",
       "      <td>Not Known</td>\n",
       "      <td>1</td>\n",
       "      <td>22.0</td>\n",
       "      <td>0</td>\n",
       "    </tr>\n",
       "    <tr>\n",
       "      <th>189</th>\n",
       "      <td>2</td>\n",
       "      <td>2017-05-29 00:08:00</td>\n",
       "      <td>Jiggity Jamble</td>\n",
       "      <td>175</td>\n",
       "      <td>M</td>\n",
       "      <td>6</td>\n",
       "      <td>WORD</td>\n",
       "      <td>iOS</td>\n",
       "      <td>1</td>\n",
       "      <td>43.0</td>\n",
       "      <td>1</td>\n",
       "    </tr>\n",
       "    <tr>\n",
       "      <th>191</th>\n",
       "      <td>4</td>\n",
       "      <td>2017-04-28 18:23:00</td>\n",
       "      <td>Lagoon</td>\n",
       "      <td>98</td>\n",
       "      <td>M</td>\n",
       "      <td>7</td>\n",
       "      <td>WORD</td>\n",
       "      <td>Android</td>\n",
       "      <td>1</td>\n",
       "      <td>4.0</td>\n",
       "      <td>0</td>\n",
       "    </tr>\n",
       "    <tr>\n",
       "      <th>193</th>\n",
       "      <td>4</td>\n",
       "      <td>2016-11-25 19:33:00</td>\n",
       "      <td>Bubbles</td>\n",
       "      <td>144</td>\n",
       "      <td>F</td>\n",
       "      <td>5</td>\n",
       "      <td>WORD</td>\n",
       "      <td>Not Known</td>\n",
       "      <td>1</td>\n",
       "      <td>24484.0</td>\n",
       "      <td>1</td>\n",
       "    </tr>\n",
       "  </tbody>\n",
       "</table>\n",
       "</div>"
      ],
      "text/plain": [
       "         session_id            createdat        gamename  duration gender  \\\n",
       "childid                                                                     \n",
       "183               3  2017-01-02 18:54:00          Lagoon        47      F   \n",
       "188               2  2017-01-30 06:26:00         Bowling       158      M   \n",
       "189               2  2017-05-29 00:08:00  Jiggity Jamble       175      M   \n",
       "191               4  2017-04-28 18:23:00          Lagoon        98      M   \n",
       "193               4  2016-11-25 19:33:00         Bubbles       144      F   \n",
       "\n",
       "         age wordtype   platform  gamescore  minutes_since_last_interval  \\\n",
       "childid                                                                    \n",
       "183        5     WORD  Not Known          1                          8.0   \n",
       "188        5     WORD  Not Known          1                         22.0   \n",
       "189        6     WORD        iOS          1                         43.0   \n",
       "191        7     WORD    Android          1                          4.0   \n",
       "193        5     WORD  Not Known          1                      24484.0   \n",
       "\n",
       "         new_event_boundary  \n",
       "childid                      \n",
       "183                       0  \n",
       "188                       0  \n",
       "189                       1  \n",
       "191                       0  \n",
       "193                       1  "
      ]
     },
     "execution_count": 12,
     "metadata": {},
     "output_type": "execute_result"
    }
   ],
   "source": [
    "df_1 = df.groupby(df['childid']).last()\n",
    "df_1.head()"
   ]
  },
  {
   "cell_type": "code",
   "execution_count": 4,
   "metadata": {
    "collapsed": false
   },
   "outputs": [],
   "source": [
    "#from matplotlib import pyplot as plt\n",
    "#from matplotlib import style\n",
    "#style.use('ggplot')\n",
    "#x1=df_1.index.values\n",
    "#y1=df_1['session_id']\n",
    "\n",
    "#plt.scatter(x1,y1,color='g')\n",
    "#plt.title('childid v/s sessionid')\n",
    "#plt.xlabel('Child ID')\n",
    "#plt.ylabel('No of Sessions')\n",
    "#plt.ylim(0,100)\n",
    "#plt.figure(figsize=(200,150))\n",
    "#plt.show()\n",
    "\n"
   ]
  },
  {
   "cell_type": "code",
   "execution_count": 13,
   "metadata": {
    "collapsed": false
   },
   "outputs": [
    {
     "data": {
      "image/png": "[encoded data removed]",
      "text/plain": [
       "<matplotlib.figure.Figure at 0x7f131aa471d0>"
      ]
     },
     "metadata": {},
     "output_type": "display_data"
    }
   ],
   "source": [
    "df_1=df.groupby(['childid'])['session_id'].mean()\n",
    "df_1.plot.line(x='childid',y='session_id')\n",
    "plt.show()"
   ]
  },
  {
   "cell_type": "markdown",
   "metadata": {},
   "source": [
    "### Average number of sessions per user is 10.2765"
   ]
  },
  {
   "cell_type": "code",
   "execution_count": 14,
   "metadata": {
    "collapsed": false
   },
   "outputs": [
    {
     "data": {
      "text/plain": [
       "6.3605808012906699"
      ]
     },
     "execution_count": 14,
     "metadata": {},
     "output_type": "execute_result"
    }
   ],
   "source": [
    "df.groupby(['childid','session_id'])['session_id'].count().mean()\n",
    "#df.groupby(['childid'])['session_id'].count().plot(x=df.childid,y=df.session_id.count(),kind='bar')\n",
    "\n",
    "\n",
    "#df_1.plot(x=df_1.index,y=df_1['session_id'])\n",
    "#plt.show()"
   ]
  },
  {
   "cell_type": "markdown",
   "metadata": {},
   "source": [
    "### Average number of activities per session is 6"
   ]
  },
  {
   "cell_type": "markdown",
   "metadata": {},
   "source": [
    "# Lets find how many unique games a child plays per session"
   ]
  },
  {
   "cell_type": "markdown",
   "metadata": {},
   "source": [
    "## Lets make a groupby object for each childid and a particular sessionid and find all unique games for that session for that child"
   ]
  },
  {
   "cell_type": "code",
   "execution_count": 6,
   "metadata": {
    "collapsed": false
   },
   "outputs": [
    {
     "data": {
      "text/plain": [
       "1.4484538854530788"
      ]
     },
     "execution_count": 6,
     "metadata": {},
     "output_type": "execute_result"
    }
   ],
   "source": [
    "df.groupby(['childid','session_id'])['gamename'].nunique().mean()"
   ]
  },
  {
   "cell_type": "markdown",
   "metadata": {},
   "source": [
    "# To confirm our values let's check manually as below"
   ]
  },
  {
   "cell_type": "code",
   "execution_count": 89,
   "metadata": {
    "collapsed": false
   },
   "outputs": [
    {
     "data": {
      "text/html": [
       "<div>\n",
       "<style>\n",
       "    .dataframe thead tr:only-child th {\n",
       "        text-align: right;\n",
       "    }\n",
       "\n",
       "    .dataframe thead th {\n",
       "        text-align: left;\n",
       "    }\n",
       "\n",
       "    .dataframe tbody tr th {\n",
       "        vertical-align: top;\n",
       "    }\n",
       "</style>\n",
       "<table border=\"1\" class=\"dataframe\">\n",
       "  <thead>\n",
       "    <tr style=\"text-align: right;\">\n",
       "      <th></th>\n",
       "      <th>childid</th>\n",
       "      <th>session_id</th>\n",
       "      <th>createdat</th>\n",
       "      <th>gamename</th>\n",
       "      <th>minutes_since_last_interval</th>\n",
       "      <th>new_event_boundary</th>\n",
       "    </tr>\n",
       "  </thead>\n",
       "  <tbody>\n",
       "    <tr>\n",
       "      <th>25559</th>\n",
       "      <td>183</td>\n",
       "      <td>0</td>\n",
       "      <td>2016-11-10 14:46:00</td>\n",
       "      <td>Lagoon</td>\n",
       "      <td>NaN</td>\n",
       "      <td>0</td>\n",
       "    </tr>\n",
       "    <tr>\n",
       "      <th>25560</th>\n",
       "      <td>183</td>\n",
       "      <td>1</td>\n",
       "      <td>2016-11-11 02:26:00</td>\n",
       "      <td>Bubbles</td>\n",
       "      <td>700.0</td>\n",
       "      <td>1</td>\n",
       "    </tr>\n",
       "    <tr>\n",
       "      <th>25561</th>\n",
       "      <td>183</td>\n",
       "      <td>1</td>\n",
       "      <td>2016-11-11 02:27:00</td>\n",
       "      <td>Bubbles</td>\n",
       "      <td>1.0</td>\n",
       "      <td>0</td>\n",
       "    </tr>\n",
       "    <tr>\n",
       "      <th>25562</th>\n",
       "      <td>183</td>\n",
       "      <td>1</td>\n",
       "      <td>2016-11-11 02:33:00</td>\n",
       "      <td>Bubbles</td>\n",
       "      <td>6.0</td>\n",
       "      <td>0</td>\n",
       "    </tr>\n",
       "    <tr>\n",
       "      <th>25563</th>\n",
       "      <td>183</td>\n",
       "      <td>1</td>\n",
       "      <td>2016-11-11 02:35:00</td>\n",
       "      <td>Bubbles</td>\n",
       "      <td>2.0</td>\n",
       "      <td>0</td>\n",
       "    </tr>\n",
       "    <tr>\n",
       "      <th>25564</th>\n",
       "      <td>183</td>\n",
       "      <td>1</td>\n",
       "      <td>2016-11-11 02:38:00</td>\n",
       "      <td>Bubbles</td>\n",
       "      <td>3.0</td>\n",
       "      <td>0</td>\n",
       "    </tr>\n",
       "    <tr>\n",
       "      <th>25565</th>\n",
       "      <td>183</td>\n",
       "      <td>2</td>\n",
       "      <td>2016-11-11 14:20:00</td>\n",
       "      <td>Bubbles</td>\n",
       "      <td>702.0</td>\n",
       "      <td>1</td>\n",
       "    </tr>\n",
       "    <tr>\n",
       "      <th>25566</th>\n",
       "      <td>183</td>\n",
       "      <td>2</td>\n",
       "      <td>2016-11-11 14:29:00</td>\n",
       "      <td>Bubbles</td>\n",
       "      <td>9.0</td>\n",
       "      <td>0</td>\n",
       "    </tr>\n",
       "    <tr>\n",
       "      <th>25567</th>\n",
       "      <td>183</td>\n",
       "      <td>2</td>\n",
       "      <td>2016-11-11 14:50:00</td>\n",
       "      <td>Lagoon</td>\n",
       "      <td>21.0</td>\n",
       "      <td>0</td>\n",
       "    </tr>\n",
       "    <tr>\n",
       "      <th>25568</th>\n",
       "      <td>183</td>\n",
       "      <td>3</td>\n",
       "      <td>2017-01-02 18:46:00</td>\n",
       "      <td>Bubbles</td>\n",
       "      <td>75116.0</td>\n",
       "      <td>1</td>\n",
       "    </tr>\n",
       "    <tr>\n",
       "      <th>25569</th>\n",
       "      <td>183</td>\n",
       "      <td>3</td>\n",
       "      <td>2017-01-02 18:54:00</td>\n",
       "      <td>Lagoon</td>\n",
       "      <td>8.0</td>\n",
       "      <td>0</td>\n",
       "    </tr>\n",
       "  </tbody>\n",
       "</table>\n",
       "</div>"
      ],
      "text/plain": [
       "       childid  session_id            createdat gamename  \\\n",
       "25559      183           0  2016-11-10 14:46:00   Lagoon   \n",
       "25560      183           1  2016-11-11 02:26:00  Bubbles   \n",
       "25561      183           1  2016-11-11 02:27:00  Bubbles   \n",
       "25562      183           1  2016-11-11 02:33:00  Bubbles   \n",
       "25563      183           1  2016-11-11 02:35:00  Bubbles   \n",
       "25564      183           1  2016-11-11 02:38:00  Bubbles   \n",
       "25565      183           2  2016-11-11 14:20:00  Bubbles   \n",
       "25566      183           2  2016-11-11 14:29:00  Bubbles   \n",
       "25567      183           2  2016-11-11 14:50:00   Lagoon   \n",
       "25568      183           3  2017-01-02 18:46:00  Bubbles   \n",
       "25569      183           3  2017-01-02 18:54:00   Lagoon   \n",
       "\n",
       "       minutes_since_last_interval  new_event_boundary  \n",
       "25559                          NaN                   0  \n",
       "25560                        700.0                   1  \n",
       "25561                          1.0                   0  \n",
       "25562                          6.0                   0  \n",
       "25563                          2.0                   0  \n",
       "25564                          3.0                   0  \n",
       "25565                        702.0                   1  \n",
       "25566                          9.0                   0  \n",
       "25567                         21.0                   0  \n",
       "25568                      75116.0                   1  \n",
       "25569                          8.0                   0  "
      ]
     },
     "execution_count": 89,
     "metadata": {},
     "output_type": "execute_result"
    }
   ],
   "source": [
    "df.loc[df['childid'] == 183]"
   ]
  },
  {
   "cell_type": "markdown",
   "metadata": {},
   "source": [
    "## For childid 183 the no of unique games per session perfectly matches our results"
   ]
  },
  {
   "cell_type": "code",
   "execution_count": null,
   "metadata": {
    "collapsed": true
   },
   "outputs": [],
   "source": []
  }
 ],
 "metadata": {
  "kernelspec": {
   "display_name": "Python 3",
   "language": "python",
   "name": "python3"
  },
  "language_info": {
   "codemirror_mode": {
    "name": "ipython",
    "version": 2
   },
   "file_extension": ".py",
   "mimetype": "text/x-python",
   "name": "python",
   "nbconvert_exporter": "python",
   "pygments_lexer": "ipython2",
   "version": "2.7.13"
  }
 },
 "nbformat": 4,
 "nbformat_minor": 2
}
