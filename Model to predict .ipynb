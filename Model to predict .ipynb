{
 "cells": [
  {
   "cell_type": "code",
   "execution_count": 50,
   "metadata": {
    "collapsed": false
   },
   "outputs": [
    {
     "data": {
      "text/html": [
       "<div>\n",
       "<style>\n",
       "    .dataframe thead tr:only-child th {\n",
       "        text-align: right;\n",
       "    }\n",
       "\n",
       "    .dataframe thead th {\n",
       "        text-align: left;\n",
       "    }\n",
       "\n",
       "    .dataframe tbody tr th {\n",
       "        vertical-align: top;\n",
       "    }\n",
       "</style>\n",
       "<table border=\"1\" class=\"dataframe\">\n",
       "  <thead>\n",
       "    <tr style=\"text-align: right;\">\n",
       "      <th></th>\n",
       "      <th>childid</th>\n",
       "      <th>session_id</th>\n",
       "      <th>createdat</th>\n",
       "      <th>gamename</th>\n",
       "      <th>duration</th>\n",
       "      <th>gender</th>\n",
       "      <th>age</th>\n",
       "      <th>wordtype</th>\n",
       "      <th>platform</th>\n",
       "      <th>gamescore</th>\n",
       "      <th>minutes_since_last_interval</th>\n",
       "      <th>new_event_boundary</th>\n",
       "    </tr>\n",
       "  </thead>\n",
       "  <tbody>\n",
       "    <tr>\n",
       "      <th>0</th>\n",
       "      <td>1004</td>\n",
       "      <td>0</td>\n",
       "      <td>2016-11-07 20:34:00</td>\n",
       "      <td>Lagoon</td>\n",
       "      <td>47</td>\n",
       "      <td>F</td>\n",
       "      <td>19</td>\n",
       "      <td>WORD</td>\n",
       "      <td>Not Known</td>\n",
       "      <td>1</td>\n",
       "      <td>NaN</td>\n",
       "      <td>0</td>\n",
       "    </tr>\n",
       "    <tr>\n",
       "      <th>1</th>\n",
       "      <td>1005</td>\n",
       "      <td>0</td>\n",
       "      <td>2016-11-07 20:52:00</td>\n",
       "      <td>Lagoon</td>\n",
       "      <td>7</td>\n",
       "      <td>F</td>\n",
       "      <td>7</td>\n",
       "      <td>WORD</td>\n",
       "      <td>Not Known</td>\n",
       "      <td>1</td>\n",
       "      <td>NaN</td>\n",
       "      <td>0</td>\n",
       "    </tr>\n",
       "    <tr>\n",
       "      <th>2</th>\n",
       "      <td>1005</td>\n",
       "      <td>0</td>\n",
       "      <td>2016-11-07 20:53:00</td>\n",
       "      <td>Lagoon</td>\n",
       "      <td>0</td>\n",
       "      <td>F</td>\n",
       "      <td>7</td>\n",
       "      <td>WORD</td>\n",
       "      <td>Not Known</td>\n",
       "      <td>1</td>\n",
       "      <td>1.0</td>\n",
       "      <td>0</td>\n",
       "    </tr>\n",
       "    <tr>\n",
       "      <th>3</th>\n",
       "      <td>1005</td>\n",
       "      <td>0</td>\n",
       "      <td>2016-11-07 20:54:00</td>\n",
       "      <td>Lagoon</td>\n",
       "      <td>0</td>\n",
       "      <td>F</td>\n",
       "      <td>7</td>\n",
       "      <td>WORD</td>\n",
       "      <td>Not Known</td>\n",
       "      <td>1</td>\n",
       "      <td>1.0</td>\n",
       "      <td>0</td>\n",
       "    </tr>\n",
       "    <tr>\n",
       "      <th>4</th>\n",
       "      <td>1010</td>\n",
       "      <td>0</td>\n",
       "      <td>2016-11-08 00:45:00</td>\n",
       "      <td>Bubbles</td>\n",
       "      <td>70</td>\n",
       "      <td>F</td>\n",
       "      <td>4</td>\n",
       "      <td>WORD</td>\n",
       "      <td>Not Known</td>\n",
       "      <td>1</td>\n",
       "      <td>NaN</td>\n",
       "      <td>0</td>\n",
       "    </tr>\n",
       "  </tbody>\n",
       "</table>\n",
       "</div>"
      ],
      "text/plain": [
       "   childid  session_id            createdat gamename  duration gender  age  \\\n",
       "0     1004           0  2016-11-07 20:34:00   Lagoon        47      F   19   \n",
       "1     1005           0  2016-11-07 20:52:00   Lagoon         7      F    7   \n",
       "2     1005           0  2016-11-07 20:53:00   Lagoon         0      F    7   \n",
       "3     1005           0  2016-11-07 20:54:00   Lagoon         0      F    7   \n",
       "4     1010           0  2016-11-08 00:45:00  Bubbles        70      F    4   \n",
       "\n",
       "  wordtype   platform  gamescore  minutes_since_last_interval  \\\n",
       "0     WORD  Not Known          1                          NaN   \n",
       "1     WORD  Not Known          1                          NaN   \n",
       "2     WORD  Not Known          1                          1.0   \n",
       "3     WORD  Not Known          1                          1.0   \n",
       "4     WORD  Not Known          1                          NaN   \n",
       "\n",
       "   new_event_boundary  \n",
       "0                   0  \n",
       "1                   0  \n",
       "2                   0  \n",
       "3                   0  \n",
       "4                   0  "
      ]
     },
     "execution_count": 50,
     "metadata": {},
     "output_type": "execute_result"
    }
   ],
   "source": [
    "import numpy as np\n",
    "import pandas as pd\n",
    "import statsmodels.api as sm\n",
    "import matplotlib.pyplot as plt\n",
    "import seaborn as sb\n",
    "from patsy import dmatrices\n",
    "import sklearn\n",
    "from sklearn.linear_model import LinearRegression\n",
    "from sklearn.linear_model import logistic_regression_path\n",
    "from sklearn.cross_validation import train_test_split\n",
    "from sklearn import metrics\n",
    "from sklearn.cross_validation import cross_val_score\n",
    "\n",
    "%matplotlib inline\n",
    "\n",
    "df = pd.read_csv(\"Sessionized_SquarePanda.csv\",parse_dates=True,error_bad_lines=False)\n",
    "df.head()\n",
    "\n"
   ]
  },
  {
   "cell_type": "code",
   "execution_count": 51,
   "metadata": {
    "collapsed": false
   },
   "outputs": [],
   "source": [
    "df['dayofweek'] = pd.to_datetime(df['createdat']).dt.dayofweek\n",
    "#df_1 = df.groupby('childid')\n",
    "#df_1.describe()"
   ]
  },
  {
   "cell_type": "raw",
   "metadata": {
    "collapsed": false,
    "raw_mimetype": "text/x-python"
   },
   "source": [
    "df['dayofweek'] = pd.to_datetime(df['createdat']).dt.dayofweek\n",
    "df_1 = df.groupby('childid')\n",
    "df_1.describe()"
   ]
  },
  {
   "cell_type": "code",
   "execution_count": 52,
   "metadata": {
    "collapsed": false
   },
   "outputs": [],
   "source": [
    "df_sub = pd.DataFrame(df, index = [0,1,2,3,4,5,6,7,8,9,10])"
   ]
  },
  {
   "cell_type": "code",
   "execution_count": 53,
   "metadata": {
    "collapsed": false
   },
   "outputs": [
    {
     "data": {
      "text/html": [
       "<div>\n",
       "<style>\n",
       "    .dataframe thead tr:only-child th {\n",
       "        text-align: right;\n",
       "    }\n",
       "\n",
       "    .dataframe thead th {\n",
       "        text-align: left;\n",
       "    }\n",
       "\n",
       "    .dataframe tbody tr th {\n",
       "        vertical-align: top;\n",
       "    }\n",
       "</style>\n",
       "<table border=\"1\" class=\"dataframe\">\n",
       "  <thead>\n",
       "    <tr style=\"text-align: right;\">\n",
       "      <th></th>\n",
       "      <th>childid</th>\n",
       "      <th>session_id</th>\n",
       "      <th>createdat</th>\n",
       "      <th>gamename</th>\n",
       "      <th>duration</th>\n",
       "      <th>gender</th>\n",
       "      <th>age</th>\n",
       "      <th>wordtype</th>\n",
       "      <th>platform</th>\n",
       "      <th>gamescore</th>\n",
       "      <th>minutes_since_last_interval</th>\n",
       "      <th>new_event_boundary</th>\n",
       "      <th>dayofweek</th>\n",
       "    </tr>\n",
       "  </thead>\n",
       "  <tbody>\n",
       "    <tr>\n",
       "      <th>0</th>\n",
       "      <td>1004</td>\n",
       "      <td>0</td>\n",
       "      <td>2016-11-07 20:34:00</td>\n",
       "      <td>Lagoon</td>\n",
       "      <td>47</td>\n",
       "      <td>F</td>\n",
       "      <td>19</td>\n",
       "      <td>WORD</td>\n",
       "      <td>Not Known</td>\n",
       "      <td>1</td>\n",
       "      <td>NaN</td>\n",
       "      <td>0</td>\n",
       "      <td>0</td>\n",
       "    </tr>\n",
       "    <tr>\n",
       "      <th>1</th>\n",
       "      <td>1005</td>\n",
       "      <td>0</td>\n",
       "      <td>2016-11-07 20:52:00</td>\n",
       "      <td>Lagoon</td>\n",
       "      <td>7</td>\n",
       "      <td>F</td>\n",
       "      <td>7</td>\n",
       "      <td>WORD</td>\n",
       "      <td>Not Known</td>\n",
       "      <td>1</td>\n",
       "      <td>NaN</td>\n",
       "      <td>0</td>\n",
       "      <td>0</td>\n",
       "    </tr>\n",
       "    <tr>\n",
       "      <th>2</th>\n",
       "      <td>1005</td>\n",
       "      <td>0</td>\n",
       "      <td>2016-11-07 20:53:00</td>\n",
       "      <td>Lagoon</td>\n",
       "      <td>0</td>\n",
       "      <td>F</td>\n",
       "      <td>7</td>\n",
       "      <td>WORD</td>\n",
       "      <td>Not Known</td>\n",
       "      <td>1</td>\n",
       "      <td>1.0</td>\n",
       "      <td>0</td>\n",
       "      <td>0</td>\n",
       "    </tr>\n",
       "    <tr>\n",
       "      <th>3</th>\n",
       "      <td>1005</td>\n",
       "      <td>0</td>\n",
       "      <td>2016-11-07 20:54:00</td>\n",
       "      <td>Lagoon</td>\n",
       "      <td>0</td>\n",
       "      <td>F</td>\n",
       "      <td>7</td>\n",
       "      <td>WORD</td>\n",
       "      <td>Not Known</td>\n",
       "      <td>1</td>\n",
       "      <td>1.0</td>\n",
       "      <td>0</td>\n",
       "      <td>0</td>\n",
       "    </tr>\n",
       "    <tr>\n",
       "      <th>4</th>\n",
       "      <td>1010</td>\n",
       "      <td>0</td>\n",
       "      <td>2016-11-08 00:45:00</td>\n",
       "      <td>Bubbles</td>\n",
       "      <td>70</td>\n",
       "      <td>F</td>\n",
       "      <td>4</td>\n",
       "      <td>WORD</td>\n",
       "      <td>Not Known</td>\n",
       "      <td>1</td>\n",
       "      <td>NaN</td>\n",
       "      <td>0</td>\n",
       "      <td>1</td>\n",
       "    </tr>\n",
       "    <tr>\n",
       "      <th>5</th>\n",
       "      <td>1010</td>\n",
       "      <td>1</td>\n",
       "      <td>2016-11-10 00:07:00</td>\n",
       "      <td>Bubbles</td>\n",
       "      <td>23</td>\n",
       "      <td>F</td>\n",
       "      <td>4</td>\n",
       "      <td>WORD</td>\n",
       "      <td>Not Known</td>\n",
       "      <td>0</td>\n",
       "      <td>2842.0</td>\n",
       "      <td>1</td>\n",
       "      <td>3</td>\n",
       "    </tr>\n",
       "    <tr>\n",
       "      <th>6</th>\n",
       "      <td>1010</td>\n",
       "      <td>2</td>\n",
       "      <td>2016-11-12 12:40:00</td>\n",
       "      <td>Bubbles</td>\n",
       "      <td>78</td>\n",
       "      <td>F</td>\n",
       "      <td>4</td>\n",
       "      <td>WORD</td>\n",
       "      <td>Not Known</td>\n",
       "      <td>1</td>\n",
       "      <td>3633.0</td>\n",
       "      <td>1</td>\n",
       "      <td>5</td>\n",
       "    </tr>\n",
       "    <tr>\n",
       "      <th>7</th>\n",
       "      <td>1010</td>\n",
       "      <td>2</td>\n",
       "      <td>2016-11-12 12:52:00</td>\n",
       "      <td>Bubbles</td>\n",
       "      <td>294</td>\n",
       "      <td>F</td>\n",
       "      <td>4</td>\n",
       "      <td>WORD</td>\n",
       "      <td>Not Known</td>\n",
       "      <td>1</td>\n",
       "      <td>12.0</td>\n",
       "      <td>0</td>\n",
       "      <td>5</td>\n",
       "    </tr>\n",
       "    <tr>\n",
       "      <th>8</th>\n",
       "      <td>1010</td>\n",
       "      <td>3</td>\n",
       "      <td>2016-11-17 00:14:00</td>\n",
       "      <td>Bowling</td>\n",
       "      <td>48</td>\n",
       "      <td>F</td>\n",
       "      <td>4</td>\n",
       "      <td>WORD</td>\n",
       "      <td>Not Known</td>\n",
       "      <td>1</td>\n",
       "      <td>6442.0</td>\n",
       "      <td>1</td>\n",
       "      <td>3</td>\n",
       "    </tr>\n",
       "    <tr>\n",
       "      <th>9</th>\n",
       "      <td>1010</td>\n",
       "      <td>3</td>\n",
       "      <td>2016-11-17 00:15:00</td>\n",
       "      <td>Bowling</td>\n",
       "      <td>55</td>\n",
       "      <td>F</td>\n",
       "      <td>4</td>\n",
       "      <td>WORD</td>\n",
       "      <td>Not Known</td>\n",
       "      <td>1</td>\n",
       "      <td>1.0</td>\n",
       "      <td>0</td>\n",
       "      <td>3</td>\n",
       "    </tr>\n",
       "    <tr>\n",
       "      <th>10</th>\n",
       "      <td>1010</td>\n",
       "      <td>3</td>\n",
       "      <td>2016-11-17 00:17:00</td>\n",
       "      <td>Bowling</td>\n",
       "      <td>70</td>\n",
       "      <td>F</td>\n",
       "      <td>4</td>\n",
       "      <td>WORD</td>\n",
       "      <td>Not Known</td>\n",
       "      <td>0</td>\n",
       "      <td>2.0</td>\n",
       "      <td>0</td>\n",
       "      <td>3</td>\n",
       "    </tr>\n",
       "  </tbody>\n",
       "</table>\n",
       "</div>"
      ],
      "text/plain": [
       "    childid  session_id            createdat gamename  duration gender  age  \\\n",
       "0      1004           0  2016-11-07 20:34:00   Lagoon        47      F   19   \n",
       "1      1005           0  2016-11-07 20:52:00   Lagoon         7      F    7   \n",
       "2      1005           0  2016-11-07 20:53:00   Lagoon         0      F    7   \n",
       "3      1005           0  2016-11-07 20:54:00   Lagoon         0      F    7   \n",
       "4      1010           0  2016-11-08 00:45:00  Bubbles        70      F    4   \n",
       "5      1010           1  2016-11-10 00:07:00  Bubbles        23      F    4   \n",
       "6      1010           2  2016-11-12 12:40:00  Bubbles        78      F    4   \n",
       "7      1010           2  2016-11-12 12:52:00  Bubbles       294      F    4   \n",
       "8      1010           3  2016-11-17 00:14:00  Bowling        48      F    4   \n",
       "9      1010           3  2016-11-17 00:15:00  Bowling        55      F    4   \n",
       "10     1010           3  2016-11-17 00:17:00  Bowling        70      F    4   \n",
       "\n",
       "   wordtype   platform  gamescore  minutes_since_last_interval  \\\n",
       "0      WORD  Not Known          1                          NaN   \n",
       "1      WORD  Not Known          1                          NaN   \n",
       "2      WORD  Not Known          1                          1.0   \n",
       "3      WORD  Not Known          1                          1.0   \n",
       "4      WORD  Not Known          1                          NaN   \n",
       "5      WORD  Not Known          0                       2842.0   \n",
       "6      WORD  Not Known          1                       3633.0   \n",
       "7      WORD  Not Known          1                         12.0   \n",
       "8      WORD  Not Known          1                       6442.0   \n",
       "9      WORD  Not Known          1                          1.0   \n",
       "10     WORD  Not Known          0                          2.0   \n",
       "\n",
       "    new_event_boundary  dayofweek  \n",
       "0                    0          0  \n",
       "1                    0          0  \n",
       "2                    0          0  \n",
       "3                    0          0  \n",
       "4                    0          1  \n",
       "5                    1          3  \n",
       "6                    1          5  \n",
       "7                    0          5  \n",
       "8                    1          3  \n",
       "9                    0          3  \n",
       "10                   0          3  "
      ]
     },
     "execution_count": 53,
     "metadata": {},
     "output_type": "execute_result"
    }
   ],
   "source": [
    "#df_1.dayofweek.hist()\n",
    "df_sub"
   ]
  },
  {
   "cell_type": "code",
   "execution_count": 83,
   "metadata": {
    "collapsed": false
   },
   "outputs": [
    {
     "name": "stdout",
     "output_type": "stream",
     "text": [
      "Index([u'Intercept', u'dayofweek'], dtype='object')\n"
     ]
    }
   ],
   "source": [
    "y, X = dmatrices('childid ~ dayofweek',df_sub, return_type=\"dataframe\")\n",
    "print X.columns\n",
    "#model = sklearn.linear_model.LinearRegression(fit_intercept=True, normalize=False, copy_X=True, n_jobs=1)\n",
    "\n",
    "df['childid'] = pd.to_numeric(df['childid'])\n",
    "\n",
    "model = sklearn.linear_model.LogisticRegression(fit_intercept=True)"
   ]
  },
  {
   "cell_type": "code",
   "execution_count": 84,
   "metadata": {
    "collapsed": false
   },
   "outputs": [
    {
     "data": {
      "text/plain": [
       "LogisticRegression(C=1.0, class_weight=None, dual=False, fit_intercept=True,\n",
       "          intercept_scaling=1, max_iter=100, multi_class='ovr', n_jobs=1,\n",
       "          penalty='l2', random_state=None, solver='liblinear', tol=0.0001,\n",
       "          verbose=0, warm_start=False)"
      ]
     },
     "execution_count": 84,
     "metadata": {},
     "output_type": "execute_result"
    }
   ],
   "source": [
    "model.fit(X,y)\n"
   ]
  },
  {
   "cell_type": "code",
   "execution_count": 85,
   "metadata": {
    "collapsed": false
   },
   "outputs": [
    {
     "data": {
      "text/plain": [
       "0.90909090909090906"
      ]
     },
     "execution_count": 85,
     "metadata": {},
     "output_type": "execute_result"
    }
   ],
   "source": [
    "model.score(X,y)"
   ]
  },
  {
   "cell_type": "code",
   "execution_count": 86,
   "metadata": {
    "collapsed": false
   },
   "outputs": [
    {
     "data": {
      "image/png": "[encoded data removed]",
      "text/plain": [
       "<matplotlib.figure.Figure at 0x7f129e002350>"
      ]
     },
     "metadata": {},
     "output_type": "display_data"
    }
   ],
   "source": [
    "plt.scatter(df_sub[\"childid\"], df_sub[\"dayofweek\"])\n",
    "plt.plot(df_sub[\"childid\"], model.predict(X), color=\"r\")\n",
    "plt.show()"
   ]
  },
  {
   "cell_type": "code",
   "execution_count": 91,
   "metadata": {
    "collapsed": false
   },
   "outputs": [
    {
     "data": {
      "text/plain": [
       "array([[ 1.,  0.],\n",
       "       [ 1.,  0.],\n",
       "       [ 1.,  0.],\n",
       "       [ 1.,  0.],\n",
       "       [ 1.,  1.],\n",
       "       [ 1.,  3.],\n",
       "       [ 1.,  5.],\n",
       "       [ 1.,  5.],\n",
       "       [ 1.,  3.],\n",
       "       [ 1.,  3.],\n",
       "       [ 1.,  3.]])"
      ]
     },
     "execution_count": 91,
     "metadata": {},
     "output_type": "execute_result"
    }
   ],
   "source": [
    "np.savetxt('test.csv',X, delimiter=',')\n",
    "np.genfromtxt('test.csv', delimiter=',')"
   ]
  },
  {
   "cell_type": "code",
   "execution_count": null,
   "metadata": {
    "collapsed": true
   },
   "outputs": [],
   "source": []
  }
 ],
 "metadata": {
  "celltoolbar": "Raw Cell Format",
  "kernelspec": {
   "display_name": "Python 3",
   "language": "python",
   "name": "python3"
  },
  "language_info": {
   "codemirror_mode": {
    "name": "ipython",
    "version": 2
   },
   "file_extension": ".py",
   "mimetype": "text/x-python",
   "name": "python",
   "nbconvert_exporter": "python",
   "pygments_lexer": "ipython2",
   "version": "2.7.13"
  }
 },
 "nbformat": 4,
 "nbformat_minor": 2
}
